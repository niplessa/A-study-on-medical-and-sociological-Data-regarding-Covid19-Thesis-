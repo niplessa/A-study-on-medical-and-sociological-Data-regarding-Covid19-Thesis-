{
  "nbformat": 4,
  "nbformat_minor": 0,
  "metadata": {
    "colab": {
      "name": "NLP_4_Tweets_separate_DFs.ipynb",
      "provenance": [],
      "collapsed_sections": [],
      "toc_visible": true,
      "authorship_tag": "ABX9TyP4lRUBTRb4jWESCy+sEmga",
      "include_colab_link": true
    },
    "kernelspec": {
      "display_name": "Python 3",
      "name": "python3"
    }
  },
  "cells": [
    {
      "cell_type": "markdown",
      "metadata": {
        "id": "view-in-github",
        "colab_type": "text"
      },
      "source": [
        "<a href=\"https://colab.research.google.com/github/niplessa/Thesis_Data-mining-study-on-medical-and-sociological-Data-regarding-Covid19/blob/code/NLP_4_Tweets_separate_DFs.ipynb\" target=\"_parent\"><img src=\"https://colab.research.google.com/assets/colab-badge.svg\" alt=\"Open In Colab\"/></a>"
      ]
    },
    {
      "cell_type": "markdown",
      "metadata": {
        "id": "cqDE0FbJETqs"
      },
      "source": [
        "#Eda & Clustering & Sentiment analysis on Covid-19 tweets (sub-topics)\n",
        "\n",
        "Dataset accessed from: https://www.kaggle.com/gpreda/covid19-tweets"
      ]
    },
    {
      "cell_type": "code",
      "metadata": {
        "id": "b_StWhsRDP7D"
      },
      "source": [
        "#import libraries\n",
        "\n",
        "import numpy as np\n",
        "import pandas as pd\n",
        "pd.set_option('display.max_rows', 40000)\n",
        "pd.set_option('display.max_columns', 600)\n",
        "pd.set_option('display.width', 3000)\n",
        "#pd.set_option('display.max_colwidth', 50)\n",
        "\n",
        "import  matplotlib.pyplot as plt\n",
        "import  seaborn as sns\n",
        "sns.set_style(\"whitegrid\")\n",
        "import plotly.express as px\n",
        "\n",
        "from wordcloud import WordCloud\n",
        "\n",
        "import nltk\n",
        "nltk.download('stopwords')\n",
        "nltk.download('punkt')\n",
        "nltk.download('wordnet')\n",
        "from nltk.corpus import stopwords\n",
        "from nltk import word_tokenize\n",
        "from nltk.tokenize import regexp_tokenize \n",
        "from string import punctuation\n",
        "from nltk.stem import WordNetLemmatizer \n",
        "\n",
        "from sklearn.feature_extraction import text\n",
        "from sklearn.feature_extraction.text import TfidfVectorizer\n",
        "from sklearn.cluster import KMeans\n",
        "\n",
        "import re\n",
        "\n",
        "import string\n",
        "from string import punctuation\n",
        "\n",
        "stopwords_eng = stopwords.words('english')\n"
      ],
      "execution_count": null,
      "outputs": []
    },
    {
      "cell_type": "code",
      "metadata": {
        "id": "_JrREGutiftN"
      },
      "source": [
        "!pip install NRCLex\n",
        "!python -m textblob.download_corpora"
      ],
      "execution_count": null,
      "outputs": []
    },
    {
      "cell_type": "code",
      "metadata": {
        "id": "Xp08fvLCjANs"
      },
      "source": [
        "from nrclex import NRCLex"
      ],
      "execution_count": null,
      "outputs": []
    },
    {
      "cell_type": "markdown",
      "metadata": {
        "id": "kwiPYIQtFxM2"
      },
      "source": [
        "## Import Tweets"
      ]
    },
    {
      "cell_type": "code",
      "metadata": {
        "id": "fzZRGHc6hBAu"
      },
      "source": [
        "#mount google drive\n",
        "from google.colab import drive\n",
        "drive.mount('/content/drive')"
      ],
      "execution_count": null,
      "outputs": []
    },
    {
      "cell_type": "code",
      "metadata": {
        "id": "-VPr-rDWFOfn"
      },
      "source": [
        "#for kaggle tweets\n",
        "path = '/content/drive/My Drive/datasets/covid19_tweets.csv'\n",
        "tweets = pd.read_csv(path)"
      ],
      "execution_count": null,
      "outputs": []
    },
    {
      "cell_type": "code",
      "metadata": {
        "id": "EuDuy3h0g7ZS"
      },
      "source": [
        "tweets = tweets.drop_duplicates(subset=\"text\", keep = \"first\")   #drop duplicate tweets\n",
        "tweets.text = tweets.text.astype('str')"
      ],
      "execution_count": null,
      "outputs": []
    },
    {
      "cell_type": "code",
      "metadata": {
        "colab": {
          "base_uri": "https://localhost:8080/",
          "height": 406
        },
        "id": "OExHFAfxHZ8k",
        "outputId": "89ff7c77-7ea0-4d0c-8cba-10afa734f15a"
      },
      "source": [
        "tweets.head()"
      ],
      "execution_count": null,
      "outputs": [
        {
          "output_type": "execute_result",
          "data": {
            "text/html": [
              "<div>\n",
              "<style scoped>\n",
              "    .dataframe tbody tr th:only-of-type {\n",
              "        vertical-align: middle;\n",
              "    }\n",
              "\n",
              "    .dataframe tbody tr th {\n",
              "        vertical-align: top;\n",
              "    }\n",
              "\n",
              "    .dataframe thead th {\n",
              "        text-align: right;\n",
              "    }\n",
              "</style>\n",
              "<table border=\"1\" class=\"dataframe\">\n",
              "  <thead>\n",
              "    <tr style=\"text-align: right;\">\n",
              "      <th></th>\n",
              "      <th>user_name</th>\n",
              "      <th>user_location</th>\n",
              "      <th>user_description</th>\n",
              "      <th>user_created</th>\n",
              "      <th>user_followers</th>\n",
              "      <th>user_friends</th>\n",
              "      <th>user_favourites</th>\n",
              "      <th>user_verified</th>\n",
              "      <th>date</th>\n",
              "      <th>text</th>\n",
              "      <th>hashtags</th>\n",
              "      <th>source</th>\n",
              "      <th>is_retweet</th>\n",
              "    </tr>\n",
              "  </thead>\n",
              "  <tbody>\n",
              "    <tr>\n",
              "      <th>0</th>\n",
              "      <td>ᏉᎥ☻լꂅϮ</td>\n",
              "      <td>astroworld</td>\n",
              "      <td>wednesday addams as a disney princess keepin i...</td>\n",
              "      <td>2017-05-26 05:46:42</td>\n",
              "      <td>624</td>\n",
              "      <td>950</td>\n",
              "      <td>18775</td>\n",
              "      <td>False</td>\n",
              "      <td>2020-07-25 12:27:21</td>\n",
              "      <td>If I smelled the scent of hand sanitizers toda...</td>\n",
              "      <td>NaN</td>\n",
              "      <td>Twitter for iPhone</td>\n",
              "      <td>False</td>\n",
              "    </tr>\n",
              "    <tr>\n",
              "      <th>1</th>\n",
              "      <td>Tom Basile 🇺🇸</td>\n",
              "      <td>New York, NY</td>\n",
              "      <td>Husband, Father, Columnist &amp; Commentator. Auth...</td>\n",
              "      <td>2009-04-16 20:06:23</td>\n",
              "      <td>2253</td>\n",
              "      <td>1677</td>\n",
              "      <td>24</td>\n",
              "      <td>True</td>\n",
              "      <td>2020-07-25 12:27:17</td>\n",
              "      <td>Hey @Yankees @YankeesPR and @MLB - wouldn't it...</td>\n",
              "      <td>NaN</td>\n",
              "      <td>Twitter for Android</td>\n",
              "      <td>False</td>\n",
              "    </tr>\n",
              "    <tr>\n",
              "      <th>2</th>\n",
              "      <td>Time4fisticuffs</td>\n",
              "      <td>Pewee Valley, KY</td>\n",
              "      <td>#Christian #Catholic #Conservative #Reagan #Re...</td>\n",
              "      <td>2009-02-28 18:57:41</td>\n",
              "      <td>9275</td>\n",
              "      <td>9525</td>\n",
              "      <td>7254</td>\n",
              "      <td>False</td>\n",
              "      <td>2020-07-25 12:27:14</td>\n",
              "      <td>@diane3443 @wdunlap @realDonaldTrump Trump nev...</td>\n",
              "      <td>['COVID19']</td>\n",
              "      <td>Twitter for Android</td>\n",
              "      <td>False</td>\n",
              "    </tr>\n",
              "    <tr>\n",
              "      <th>3</th>\n",
              "      <td>ethel mertz</td>\n",
              "      <td>Stuck in the Middle</td>\n",
              "      <td>#Browns #Indians #ClevelandProud #[]_[] #Cavs ...</td>\n",
              "      <td>2019-03-07 01:45:06</td>\n",
              "      <td>197</td>\n",
              "      <td>987</td>\n",
              "      <td>1488</td>\n",
              "      <td>False</td>\n",
              "      <td>2020-07-25 12:27:10</td>\n",
              "      <td>@brookbanktv The one gift #COVID19 has give me...</td>\n",
              "      <td>['COVID19']</td>\n",
              "      <td>Twitter for iPhone</td>\n",
              "      <td>False</td>\n",
              "    </tr>\n",
              "    <tr>\n",
              "      <th>4</th>\n",
              "      <td>DIPR-J&amp;K</td>\n",
              "      <td>Jammu and Kashmir</td>\n",
              "      <td>🖊️Official Twitter handle of Department of Inf...</td>\n",
              "      <td>2017-02-12 06:45:15</td>\n",
              "      <td>101009</td>\n",
              "      <td>168</td>\n",
              "      <td>101</td>\n",
              "      <td>False</td>\n",
              "      <td>2020-07-25 12:27:08</td>\n",
              "      <td>25 July : Media Bulletin on Novel #CoronaVirus...</td>\n",
              "      <td>['CoronaVirusUpdates', 'COVID19']</td>\n",
              "      <td>Twitter for Android</td>\n",
              "      <td>False</td>\n",
              "    </tr>\n",
              "  </tbody>\n",
              "</table>\n",
              "</div>"
            ],
            "text/plain": [
              "         user_name         user_location                                   user_description         user_created  user_followers  user_friends  user_favourites  user_verified                 date                                               text                           hashtags               source  is_retweet\n",
              "0           ᏉᎥ☻լꂅϮ            astroworld  wednesday addams as a disney princess keepin i...  2017-05-26 05:46:42             624           950            18775          False  2020-07-25 12:27:21  If I smelled the scent of hand sanitizers toda...                                NaN   Twitter for iPhone       False\n",
              "1    Tom Basile 🇺🇸          New York, NY  Husband, Father, Columnist & Commentator. Auth...  2009-04-16 20:06:23            2253          1677               24           True  2020-07-25 12:27:17  Hey @Yankees @YankeesPR and @MLB - wouldn't it...                                NaN  Twitter for Android       False\n",
              "2  Time4fisticuffs      Pewee Valley, KY  #Christian #Catholic #Conservative #Reagan #Re...  2009-02-28 18:57:41            9275          9525             7254          False  2020-07-25 12:27:14  @diane3443 @wdunlap @realDonaldTrump Trump nev...                        ['COVID19']  Twitter for Android       False\n",
              "3      ethel mertz  Stuck in the Middle   #Browns #Indians #ClevelandProud #[]_[] #Cavs ...  2019-03-07 01:45:06             197           987             1488          False  2020-07-25 12:27:10  @brookbanktv The one gift #COVID19 has give me...                        ['COVID19']   Twitter for iPhone       False\n",
              "4         DIPR-J&K     Jammu and Kashmir  🖊️Official Twitter handle of Department of Inf...  2017-02-12 06:45:15          101009           168              101          False  2020-07-25 12:27:08  25 July : Media Bulletin on Novel #CoronaVirus...  ['CoronaVirusUpdates', 'COVID19']  Twitter for Android       False"
            ]
          },
          "metadata": {
            "tags": []
          },
          "execution_count": 64
        }
      ]
    },
    {
      "cell_type": "code",
      "metadata": {
        "colab": {
          "base_uri": "https://localhost:8080/",
          "height": 373
        },
        "id": "1sSAAZvaMZ_9",
        "outputId": "00611ae5-c83d-4be0-ea65-f3e7b2dbd27e"
      },
      "source": [
        "tweets.tail()"
      ],
      "execution_count": null,
      "outputs": [
        {
          "output_type": "execute_result",
          "data": {
            "text/html": [
              "<div>\n",
              "<style scoped>\n",
              "    .dataframe tbody tr th:only-of-type {\n",
              "        vertical-align: middle;\n",
              "    }\n",
              "\n",
              "    .dataframe tbody tr th {\n",
              "        vertical-align: top;\n",
              "    }\n",
              "\n",
              "    .dataframe thead th {\n",
              "        text-align: right;\n",
              "    }\n",
              "</style>\n",
              "<table border=\"1\" class=\"dataframe\">\n",
              "  <thead>\n",
              "    <tr style=\"text-align: right;\">\n",
              "      <th></th>\n",
              "      <th>user_name</th>\n",
              "      <th>user_location</th>\n",
              "      <th>user_description</th>\n",
              "      <th>user_created</th>\n",
              "      <th>user_followers</th>\n",
              "      <th>user_friends</th>\n",
              "      <th>user_favourites</th>\n",
              "      <th>user_verified</th>\n",
              "      <th>date</th>\n",
              "      <th>text</th>\n",
              "      <th>hashtags</th>\n",
              "      <th>source</th>\n",
              "      <th>is_retweet</th>\n",
              "    </tr>\n",
              "  </thead>\n",
              "  <tbody>\n",
              "    <tr>\n",
              "      <th>179103</th>\n",
              "      <td>AJIMATI AbdulRahman O.</td>\n",
              "      <td>Ilorin, Nigeria</td>\n",
              "      <td>Animal Scientist|| Muslim|| Real Madrid/Chelsea</td>\n",
              "      <td>2013-12-30 18:59:19</td>\n",
              "      <td>412</td>\n",
              "      <td>1609</td>\n",
              "      <td>1062</td>\n",
              "      <td>False</td>\n",
              "      <td>2020-08-29 19:44:21</td>\n",
              "      <td>Thanks @IamOhmai for nominating me for the @WH...</td>\n",
              "      <td>['WearAMask']</td>\n",
              "      <td>Twitter for Android</td>\n",
              "      <td>False</td>\n",
              "    </tr>\n",
              "    <tr>\n",
              "      <th>179104</th>\n",
              "      <td>Jason</td>\n",
              "      <td>Ontario</td>\n",
              "      <td>When your cat has more baking soda than Ninja ...</td>\n",
              "      <td>2011-12-21 04:41:30</td>\n",
              "      <td>150</td>\n",
              "      <td>182</td>\n",
              "      <td>7295</td>\n",
              "      <td>False</td>\n",
              "      <td>2020-08-29 19:44:16</td>\n",
              "      <td>2020! The year of insanity! Lol! #COVID19 http...</td>\n",
              "      <td>['COVID19']</td>\n",
              "      <td>Twitter for Android</td>\n",
              "      <td>False</td>\n",
              "    </tr>\n",
              "    <tr>\n",
              "      <th>179105</th>\n",
              "      <td>BEEHEMOTH ⏳</td>\n",
              "      <td>🇨🇦 Canada</td>\n",
              "      <td>⚒️ The Architects of Free Trade ⚒️ Really Did ...</td>\n",
              "      <td>2016-07-13 17:21:59</td>\n",
              "      <td>1623</td>\n",
              "      <td>2160</td>\n",
              "      <td>98000</td>\n",
              "      <td>False</td>\n",
              "      <td>2020-08-29 19:44:15</td>\n",
              "      <td>@CTVNews A powerful painting by Juan Lucena. I...</td>\n",
              "      <td>NaN</td>\n",
              "      <td>Twitter Web App</td>\n",
              "      <td>False</td>\n",
              "    </tr>\n",
              "    <tr>\n",
              "      <th>179106</th>\n",
              "      <td>Gary DelPonte</td>\n",
              "      <td>New York City</td>\n",
              "      <td>Global UX UI Visual Designer. StoryTeller, Mus...</td>\n",
              "      <td>2009-10-27 17:43:13</td>\n",
              "      <td>1338</td>\n",
              "      <td>1111</td>\n",
              "      <td>0</td>\n",
              "      <td>False</td>\n",
              "      <td>2020-08-29 19:44:14</td>\n",
              "      <td>More than 1,200 students test positive for #CO...</td>\n",
              "      <td>['COVID19']</td>\n",
              "      <td>Twitter for iPhone</td>\n",
              "      <td>False</td>\n",
              "    </tr>\n",
              "    <tr>\n",
              "      <th>179107</th>\n",
              "      <td>TUKY II</td>\n",
              "      <td>Aliwal North, South Africa</td>\n",
              "      <td>TOKELO SEKHOPA | TUKY II | LAST BORN | EISH TU...</td>\n",
              "      <td>2018-04-14 17:30:07</td>\n",
              "      <td>97</td>\n",
              "      <td>1697</td>\n",
              "      <td>566</td>\n",
              "      <td>False</td>\n",
              "      <td>2020-08-29 19:44:08</td>\n",
              "      <td>I stop when I see a Stop\\n\\n@SABCNews\\n@Izinda...</td>\n",
              "      <td>NaN</td>\n",
              "      <td>Twitter for Android</td>\n",
              "      <td>False</td>\n",
              "    </tr>\n",
              "  </tbody>\n",
              "</table>\n",
              "</div>"
            ],
            "text/plain": [
              "                     user_name               user_location                                   user_description         user_created  user_followers  user_friends  user_favourites  user_verified                 date                                               text       hashtags               source  is_retweet\n",
              "179103  AJIMATI AbdulRahman O.             Ilorin, Nigeria    Animal Scientist|| Muslim|| Real Madrid/Chelsea  2013-12-30 18:59:19             412          1609             1062          False  2020-08-29 19:44:21  Thanks @IamOhmai for nominating me for the @WH...  ['WearAMask']  Twitter for Android       False\n",
              "179104                   Jason                     Ontario  When your cat has more baking soda than Ninja ...  2011-12-21 04:41:30             150           182             7295          False  2020-08-29 19:44:16  2020! The year of insanity! Lol! #COVID19 http...    ['COVID19']  Twitter for Android       False\n",
              "179105             BEEHEMOTH ⏳                   🇨🇦 Canada  ⚒️ The Architects of Free Trade ⚒️ Really Did ...  2016-07-13 17:21:59            1623          2160            98000          False  2020-08-29 19:44:15  @CTVNews A powerful painting by Juan Lucena. I...            NaN      Twitter Web App       False\n",
              "179106           Gary DelPonte               New York City  Global UX UI Visual Designer. StoryTeller, Mus...  2009-10-27 17:43:13            1338          1111                0          False  2020-08-29 19:44:14  More than 1,200 students test positive for #CO...    ['COVID19']   Twitter for iPhone       False\n",
              "179107                 TUKY II  Aliwal North, South Africa  TOKELO SEKHOPA | TUKY II | LAST BORN | EISH TU...  2018-04-14 17:30:07              97          1697              566          False  2020-08-29 19:44:08  I stop when I see a Stop\\n\\n@SABCNews\\n@Izinda...            NaN  Twitter for Android       False"
            ]
          },
          "metadata": {
            "tags": []
          },
          "execution_count": 65
        }
      ]
    },
    {
      "cell_type": "code",
      "metadata": {
        "colab": {
          "base_uri": "https://localhost:8080/"
        },
        "id": "iYyENld5HmtW",
        "outputId": "6d5c1d0c-79a8-427a-c88b-61a2dec0ef8c"
      },
      "source": [
        "tweets.shape"
      ],
      "execution_count": null,
      "outputs": [
        {
          "output_type": "execute_result",
          "data": {
            "text/plain": [
              "(178683, 13)"
            ]
          },
          "metadata": {
            "tags": []
          },
          "execution_count": 66
        }
      ]
    },
    {
      "cell_type": "markdown",
      "metadata": {
        "id": "_cxKVhK1slbk"
      },
      "source": [
        "## NLP text preprocess"
      ]
    },
    {
      "cell_type": "code",
      "metadata": {
        "colab": {
          "base_uri": "https://localhost:8080/"
        },
        "id": "n1TrnGgVbqLN",
        "outputId": "ee382fd6-4ada-41a1-8b7e-429dd4e60917"
      },
      "source": [
        "from nltk.corpus import wordnet\n",
        "nltk.download('averaged_perceptron_tagger')"
      ],
      "execution_count": null,
      "outputs": [
        {
          "output_type": "stream",
          "text": [
            "[nltk_data] Downloading package averaged_perceptron_tagger to\n",
            "[nltk_data]     /root/nltk_data...\n",
            "[nltk_data]   Package averaged_perceptron_tagger is already up-to-\n",
            "[nltk_data]       date!\n"
          ],
          "name": "stdout"
        },
        {
          "output_type": "execute_result",
          "data": {
            "text/plain": [
              "True"
            ]
          },
          "metadata": {
            "tags": []
          },
          "execution_count": 67
        }
      ]
    },
    {
      "cell_type": "code",
      "metadata": {
        "id": "MtyT7QGFcUoJ"
      },
      "source": [
        "lemmatizer = WordNetLemmatizer()"
      ],
      "execution_count": null,
      "outputs": []
    },
    {
      "cell_type": "code",
      "metadata": {
        "id": "txtjMXCdbKDv"
      },
      "source": [
        "def get_wordnet_pos(word):\n",
        "    \"\"\"Map POS tag to first character lemmatize() accepts\"\"\"\n",
        "    tag = nltk.pos_tag([word])[0][1][0].upper()\n",
        "    tag_dict = {\"J\": wordnet.ADJ,\n",
        "                \"N\": wordnet.NOUN,\n",
        "                \"V\": wordnet.VERB,\n",
        "                \"R\": wordnet.ADV}\n",
        "\n",
        "    return tag_dict.get(tag, wordnet.NOUN)\n"
      ],
      "execution_count": null,
      "outputs": []
    },
    {
      "cell_type": "code",
      "metadata": {
        "id": "f_wKh_G6srNz"
      },
      "source": [
        "\n",
        "#lematization function\n",
        "from nltk.corpus import wordnet\n",
        "\n",
        "def lemmatize_text(text):\n",
        "    lemmatized = []\n",
        "    for word in text:\n",
        "        lemmatized.append(lemmatizer.lemmatize(word,get_wordnet_pos(word)))\n",
        "    return lemmatized\n",
        "\n",
        "#remove stopwords function\n",
        "stops =  list(stopwords_eng)\n",
        "def remove_stops(text):\n",
        "    text_no_stops = []\n",
        "    for i in text:\n",
        "        if i not in stops:\n",
        "            if len(i) == 1:\n",
        "                pass\n",
        "            else:\n",
        "                text_no_stops.append(i)\n",
        "        else:\n",
        "            pass\n",
        "    return text_no_stops"
      ],
      "execution_count": null,
      "outputs": []
    },
    {
      "cell_type": "code",
      "metadata": {
        "id": "kSPykRSLsnbh"
      },
      "source": [
        "tweets['clean_text'] = tweets['text'].astype(str)\n",
        "\n",
        "#replace newline char with space\n",
        "tweets['clean_text'] = tweets['text'].str.replace(\"\\n\", \" \")\n",
        "\n",
        "# make all text lowercase\n",
        "tweets['clean_text'] = tweets['text'].apply(lambda x: x.lower())\n",
        "\n",
        "# removing everything except alphabets\n",
        "tweets['clean_text'] = tweets['clean_text'].str.replace(\"[^a-zA-Z]\", \" \")\n",
        "\n",
        "# removing short words <3 letters length\n",
        "tweets['clean_text'] = tweets['clean_text'].apply(lambda x: ' '.join([w for w in x.split() if len(w)>3]))"
      ],
      "execution_count": null,
      "outputs": []
    },
    {
      "cell_type": "code",
      "metadata": {
        "id": "JpNj1QmZt5N_"
      },
      "source": [
        "#remove links with regex\n",
        "p=re.compile('(www|http)\\S+')\n",
        "tweets['clean_text'] = tweets['clean_text'].apply(lambda x: re.sub(p,' ',x))\n",
        "\n",
        "#remove @\n",
        "tweets['clean_text'] = tweets['clean_text'].apply(lambda x: re.sub('@','',x))\n",
        "\n",
        "#remove #\n",
        "tweets['clean_text'] = tweets['clean_text'].apply(lambda x: re.sub('#','',x))"
      ],
      "execution_count": null,
      "outputs": []
    },
    {
      "cell_type": "code",
      "metadata": {
        "id": "ZqqgoMh4su0e"
      },
      "source": [
        "# tokenization\n",
        "tweets['text_tokenized'] = tweets['clean_text'].apply(lambda x: regexp_tokenize(x,\"[\\w']+\"))\n",
        "\n",
        "#actually remove stopwords\n",
        "tweets['text_tokenized'] = tweets['text_tokenized'].apply(lambda x: remove_stops(x))"
      ],
      "execution_count": null,
      "outputs": []
    },
    {
      "cell_type": "code",
      "metadata": {
        "id": "vyI6tqMws27Z"
      },
      "source": [
        "#lemmatization\n",
        "tweets['text_lemmatized'] = tweets['text_tokenized'].apply(lemmatize_text)"
      ],
      "execution_count": null,
      "outputs": []
    },
    {
      "cell_type": "code",
      "metadata": {
        "id": "bUdlNcj1tAlR"
      },
      "source": [
        "#stemming\n",
        "from nltk.stem import PorterStemmer \n",
        "ps = PorterStemmer() \n",
        "tweets['text_stemmed'] = tweets['text_tokenized'].apply(lambda x: [ps.stem(y) for y in x])"
      ],
      "execution_count": null,
      "outputs": []
    },
    {
      "cell_type": "code",
      "metadata": {
        "id": "y3Z6sUkitEU_"
      },
      "source": [
        "#de - tokenization\n",
        "tweets['stemmed_string'] = tweets['text_stemmed'].apply(lambda x: ' '.join(x))\n",
        "tweets['lemmatized_string'] = tweets['text_lemmatized'].apply(lambda x: ' '.join(x))"
      ],
      "execution_count": null,
      "outputs": []
    },
    {
      "cell_type": "code",
      "metadata": {
        "colab": {
          "base_uri": "https://localhost:8080/",
          "height": 455
        },
        "id": "-zsMrPiuy0ZS",
        "outputId": "8cdc9a22-a899-4b35-8fe7-c4f8b610be46"
      },
      "source": [
        "tweets.head()"
      ],
      "execution_count": null,
      "outputs": [
        {
          "output_type": "execute_result",
          "data": {
            "text/html": [
              "<div>\n",
              "<style scoped>\n",
              "    .dataframe tbody tr th:only-of-type {\n",
              "        vertical-align: middle;\n",
              "    }\n",
              "\n",
              "    .dataframe tbody tr th {\n",
              "        vertical-align: top;\n",
              "    }\n",
              "\n",
              "    .dataframe thead th {\n",
              "        text-align: right;\n",
              "    }\n",
              "</style>\n",
              "<table border=\"1\" class=\"dataframe\">\n",
              "  <thead>\n",
              "    <tr style=\"text-align: right;\">\n",
              "      <th></th>\n",
              "      <th>user_name</th>\n",
              "      <th>user_location</th>\n",
              "      <th>user_description</th>\n",
              "      <th>user_created</th>\n",
              "      <th>user_followers</th>\n",
              "      <th>user_friends</th>\n",
              "      <th>user_favourites</th>\n",
              "      <th>user_verified</th>\n",
              "      <th>date</th>\n",
              "      <th>text</th>\n",
              "      <th>hashtags</th>\n",
              "      <th>source</th>\n",
              "      <th>is_retweet</th>\n",
              "      <th>clean_text</th>\n",
              "      <th>text_tokenized</th>\n",
              "      <th>text_lemmatized</th>\n",
              "      <th>text_stemmed</th>\n",
              "      <th>stemmed_string</th>\n",
              "      <th>lemmatized_string</th>\n",
              "    </tr>\n",
              "  </thead>\n",
              "  <tbody>\n",
              "    <tr>\n",
              "      <th>0</th>\n",
              "      <td>ᏉᎥ☻լꂅϮ</td>\n",
              "      <td>astroworld</td>\n",
              "      <td>wednesday addams as a disney princess keepin i...</td>\n",
              "      <td>2017-05-26 05:46:42</td>\n",
              "      <td>624</td>\n",
              "      <td>950</td>\n",
              "      <td>18775</td>\n",
              "      <td>False</td>\n",
              "      <td>2020-07-25 12:27:21</td>\n",
              "      <td>If I smelled the scent of hand sanitizers toda...</td>\n",
              "      <td>NaN</td>\n",
              "      <td>Twitter for iPhone</td>\n",
              "      <td>False</td>\n",
              "      <td>smelled scent hand sanitizers today someone pa...</td>\n",
              "      <td>[smelled, scent, hand, sanitizers, today, some...</td>\n",
              "      <td>[smell, scent, hand, sanitizers, today, someon...</td>\n",
              "      <td>[smell, scent, hand, sanit, today, someon, pas...</td>\n",
              "      <td>smell scent hand sanit today someon past would...</td>\n",
              "      <td>smell scent hand sanitizers today someone past...</td>\n",
              "    </tr>\n",
              "    <tr>\n",
              "      <th>1</th>\n",
              "      <td>Tom Basile 🇺🇸</td>\n",
              "      <td>New York, NY</td>\n",
              "      <td>Husband, Father, Columnist &amp; Commentator. Auth...</td>\n",
              "      <td>2009-04-16 20:06:23</td>\n",
              "      <td>2253</td>\n",
              "      <td>1677</td>\n",
              "      <td>24</td>\n",
              "      <td>True</td>\n",
              "      <td>2020-07-25 12:27:17</td>\n",
              "      <td>Hey @Yankees @YankeesPR and @MLB - wouldn't it...</td>\n",
              "      <td>NaN</td>\n",
              "      <td>Twitter for Android</td>\n",
              "      <td>False</td>\n",
              "      <td>yankees yankeespr wouldn have made more sense ...</td>\n",
              "      <td>[yankees, yankeespr, made, sense, players, res...</td>\n",
              "      <td>[yankee, yankeespr, make, sense, player, respe...</td>\n",
              "      <td>[yanke, yankeespr, made, sens, player, respect...</td>\n",
              "      <td>yanke yankeespr made sens player respect zgypu</td>\n",
              "      <td>yankee yankeespr make sense player respect zgypu</td>\n",
              "    </tr>\n",
              "    <tr>\n",
              "      <th>2</th>\n",
              "      <td>Time4fisticuffs</td>\n",
              "      <td>Pewee Valley, KY</td>\n",
              "      <td>#Christian #Catholic #Conservative #Reagan #Re...</td>\n",
              "      <td>2009-02-28 18:57:41</td>\n",
              "      <td>9275</td>\n",
              "      <td>9525</td>\n",
              "      <td>7254</td>\n",
              "      <td>False</td>\n",
              "      <td>2020-07-25 12:27:14</td>\n",
              "      <td>@diane3443 @wdunlap @realDonaldTrump Trump nev...</td>\n",
              "      <td>['COVID19']</td>\n",
              "      <td>Twitter for Android</td>\n",
              "      <td>False</td>\n",
              "      <td>diane wdunlap realdonaldtrump trump never once...</td>\n",
              "      <td>[diane, wdunlap, realdonaldtrump, trump, never...</td>\n",
              "      <td>[diane, wdunlap, realdonaldtrump, trump, never...</td>\n",
              "      <td>[dian, wdunlap, realdonaldtrump, trump, never,...</td>\n",
              "      <td>dian wdunlap realdonaldtrump trump never claim...</td>\n",
              "      <td>diane wdunlap realdonaldtrump trump never clai...</td>\n",
              "    </tr>\n",
              "    <tr>\n",
              "      <th>3</th>\n",
              "      <td>ethel mertz</td>\n",
              "      <td>Stuck in the Middle</td>\n",
              "      <td>#Browns #Indians #ClevelandProud #[]_[] #Cavs ...</td>\n",
              "      <td>2019-03-07 01:45:06</td>\n",
              "      <td>197</td>\n",
              "      <td>987</td>\n",
              "      <td>1488</td>\n",
              "      <td>False</td>\n",
              "      <td>2020-07-25 12:27:10</td>\n",
              "      <td>@brookbanktv The one gift #COVID19 has give me...</td>\n",
              "      <td>['COVID19']</td>\n",
              "      <td>Twitter for iPhone</td>\n",
              "      <td>False</td>\n",
              "      <td>brookbanktv gift covid give appreciation simpl...</td>\n",
              "      <td>[brookbanktv, gift, covid, give, appreciation,...</td>\n",
              "      <td>[brookbanktv, gift, covid, give, appreciation,...</td>\n",
              "      <td>[brookbanktv, gift, covid, give, appreci, simp...</td>\n",
              "      <td>brookbanktv gift covid give appreci simpl thin...</td>\n",
              "      <td>brookbanktv gift covid give appreciation simpl...</td>\n",
              "    </tr>\n",
              "    <tr>\n",
              "      <th>4</th>\n",
              "      <td>DIPR-J&amp;K</td>\n",
              "      <td>Jammu and Kashmir</td>\n",
              "      <td>🖊️Official Twitter handle of Department of Inf...</td>\n",
              "      <td>2017-02-12 06:45:15</td>\n",
              "      <td>101009</td>\n",
              "      <td>168</td>\n",
              "      <td>101</td>\n",
              "      <td>False</td>\n",
              "      <td>2020-07-25 12:27:08</td>\n",
              "      <td>25 July : Media Bulletin on Novel #CoronaVirus...</td>\n",
              "      <td>['CoronaVirusUpdates', 'COVID19']</td>\n",
              "      <td>Twitter for Android</td>\n",
              "      <td>False</td>\n",
              "      <td>july media bulletin novel coronavirusupdates c...</td>\n",
              "      <td>[july, media, bulletin, novel, coronavirusupda...</td>\n",
              "      <td>[july, medium, bulletin, novel, coronavirusupd...</td>\n",
              "      <td>[juli, media, bulletin, novel, coronavirusupd,...</td>\n",
              "      <td>juli media bulletin novel coronavirusupd covid...</td>\n",
              "      <td>july medium bulletin novel coronavirusupdates ...</td>\n",
              "    </tr>\n",
              "  </tbody>\n",
              "</table>\n",
              "</div>"
            ],
            "text/plain": [
              "         user_name         user_location                                   user_description         user_created  user_followers  user_friends  user_favourites  user_verified                 date                                               text                           hashtags               source  is_retweet                                         clean_text                                     text_tokenized                                    text_lemmatized                                       text_stemmed                                     stemmed_string                                  lemmatized_string\n",
              "0           ᏉᎥ☻լꂅϮ            astroworld  wednesday addams as a disney princess keepin i...  2017-05-26 05:46:42             624           950            18775          False  2020-07-25 12:27:21  If I smelled the scent of hand sanitizers toda...                                NaN   Twitter for iPhone       False  smelled scent hand sanitizers today someone pa...  [smelled, scent, hand, sanitizers, today, some...  [smell, scent, hand, sanitizers, today, someon...  [smell, scent, hand, sanit, today, someon, pas...  smell scent hand sanit today someon past would...  smell scent hand sanitizers today someone past...\n",
              "1    Tom Basile 🇺🇸          New York, NY  Husband, Father, Columnist & Commentator. Auth...  2009-04-16 20:06:23            2253          1677               24           True  2020-07-25 12:27:17  Hey @Yankees @YankeesPR and @MLB - wouldn't it...                                NaN  Twitter for Android       False  yankees yankeespr wouldn have made more sense ...  [yankees, yankeespr, made, sense, players, res...  [yankee, yankeespr, make, sense, player, respe...  [yanke, yankeespr, made, sens, player, respect...     yanke yankeespr made sens player respect zgypu   yankee yankeespr make sense player respect zgypu\n",
              "2  Time4fisticuffs      Pewee Valley, KY  #Christian #Catholic #Conservative #Reagan #Re...  2009-02-28 18:57:41            9275          9525             7254          False  2020-07-25 12:27:14  @diane3443 @wdunlap @realDonaldTrump Trump nev...                        ['COVID19']  Twitter for Android       False  diane wdunlap realdonaldtrump trump never once...  [diane, wdunlap, realdonaldtrump, trump, never...  [diane, wdunlap, realdonaldtrump, trump, never...  [dian, wdunlap, realdonaldtrump, trump, never,...  dian wdunlap realdonaldtrump trump never claim...  diane wdunlap realdonaldtrump trump never clai...\n",
              "3      ethel mertz  Stuck in the Middle   #Browns #Indians #ClevelandProud #[]_[] #Cavs ...  2019-03-07 01:45:06             197           987             1488          False  2020-07-25 12:27:10  @brookbanktv The one gift #COVID19 has give me...                        ['COVID19']   Twitter for iPhone       False  brookbanktv gift covid give appreciation simpl...  [brookbanktv, gift, covid, give, appreciation,...  [brookbanktv, gift, covid, give, appreciation,...  [brookbanktv, gift, covid, give, appreci, simp...  brookbanktv gift covid give appreci simpl thin...  brookbanktv gift covid give appreciation simpl...\n",
              "4         DIPR-J&K     Jammu and Kashmir  🖊️Official Twitter handle of Department of Inf...  2017-02-12 06:45:15          101009           168              101          False  2020-07-25 12:27:08  25 July : Media Bulletin on Novel #CoronaVirus...  ['CoronaVirusUpdates', 'COVID19']  Twitter for Android       False  july media bulletin novel coronavirusupdates c...  [july, media, bulletin, novel, coronavirusupda...  [july, medium, bulletin, novel, coronavirusupd...  [juli, media, bulletin, novel, coronavirusupd,...  juli media bulletin novel coronavirusupd covid...  july medium bulletin novel coronavirusupdates ..."
            ]
          },
          "metadata": {
            "tags": []
          },
          "execution_count": 77
        }
      ]
    },
    {
      "cell_type": "markdown",
      "metadata": {
        "id": "nf_8CZwaF1uu"
      },
      "source": [
        "# Create separate dataframes for subjects such as masks, vaccines, protests, poverty/economica crisis, hoax etc etc"
      ]
    },
    {
      "cell_type": "markdown",
      "metadata": {
        "id": "rEx3a5-5p9y_"
      },
      "source": [
        "## Masks"
      ]
    },
    {
      "cell_type": "code",
      "metadata": {
        "id": "Usnq15hWHs_Q"
      },
      "source": [
        "#Mask keywords\n",
        "keywords_masks = [\"mask\",\"facemask\",\"masks\",\"mask\",\"facecover\",\"face\",\"face cover \",\"face mask\",\"protective mask\"]"
      ],
      "execution_count": null,
      "outputs": []
    },
    {
      "cell_type": "code",
      "metadata": {
        "colab": {
          "base_uri": "https://localhost:8080/"
        },
        "id": "aWXHMSUffHWf",
        "outputId": "ee1b61ce-3437-4a9d-9cd4-4ac5485619e9"
      },
      "source": [
        "tweet_masks = pd.DataFrame()\n",
        "\n",
        "for k in keywords_masks :\n",
        "    tmp = tweets[tweets['clean_text'].str.lower().str.contains(k)]\n",
        "    tweet_masks = tweet_masks.append(tmp)\n",
        "    \n",
        "    \n",
        "    \n",
        "tweet_masks.sort_values(\"date\", inplace = True,ascending = False)   #sort by date\n",
        "tweet_masks.drop_duplicates(subset=\"clean_text\", keep = \"first\", inplace = True)        #drop duplicate tweets\n",
        "                      \n",
        "tweet_masks = tweet_masks.reset_index(drop=True) #reset index\n",
        "print(\"Mask related tweets: \",tweet_masks.shape[0])"
      ],
      "execution_count": null,
      "outputs": [
        {
          "output_type": "stream",
          "text": [
            "Mask related tweets:  10024\n"
          ],
          "name": "stdout"
        }
      ]
    },
    {
      "cell_type": "markdown",
      "metadata": {
        "id": "Z10PmP21p_Kj"
      },
      "source": [
        "## Vaccine"
      ]
    },
    {
      "cell_type": "code",
      "metadata": {
        "id": "6RIM2fXUjt0x"
      },
      "source": [
        "#vaccine keywords\n",
        "keywords = [\"vaccine\",\"vaccines\",\"pfizer\",\"moderna\",\"astrazeneca\",\"oxford\",\"sputnik\",\"vaccination\"]"
      ],
      "execution_count": null,
      "outputs": []
    },
    {
      "cell_type": "code",
      "metadata": {
        "colab": {
          "base_uri": "https://localhost:8080/"
        },
        "id": "14T1vdQFju4G",
        "outputId": "41132056-a45a-4f58-fed1-07f91fbc446e"
      },
      "source": [
        "tweet_vacc = pd.DataFrame()\n",
        "\n",
        "for k in keywords :\n",
        "    tmp = tweets[tweets['clean_text'].str.lower().str.contains(k)]\n",
        "    tweet_vacc = tweet_vacc.append(tmp)\n",
        "    \n",
        "    \n",
        "    \n",
        "tweet_vacc.sort_values(\"date\", inplace = True,ascending = False)   #sort by date\n",
        "tweet_vacc.drop_duplicates(subset=\"clean_text\", keep = \"first\", inplace = True)        #drop duplicate tweets\n",
        "                      \n",
        "tweet_vacc = tweet_vacc.reset_index(drop=True) #reset index\n",
        "print(\"Vaccine related tweets: \",tweet_vacc.shape[0])"
      ],
      "execution_count": null,
      "outputs": [
        {
          "output_type": "stream",
          "text": [
            "Vaccine related tweets:  4367\n"
          ],
          "name": "stdout"
        }
      ]
    },
    {
      "cell_type": "markdown",
      "metadata": {
        "id": "f9CaOIgKqA5w"
      },
      "source": [
        "## Protests - Riots"
      ]
    },
    {
      "cell_type": "code",
      "metadata": {
        "id": "do3o-SA0kig7"
      },
      "source": [
        "#protests\n",
        "keywords = [\"protest\",\"protester\",\"anti\",\"clash\",\"demonstration\",\"conflict\",\"riot\"]"
      ],
      "execution_count": null,
      "outputs": []
    },
    {
      "cell_type": "code",
      "metadata": {
        "id": "Ozmzx4p3k44K"
      },
      "source": [
        "tweet_protest = pd.DataFrame()\n",
        "\n",
        "for k in keywords :\n",
        "    tmp = tweets[tweets['clean_text'].str.lower().str.contains(k)]\n",
        "    tweet_protest = tweet_protest.append(tmp)\n",
        "    \n",
        "    \n",
        "    \n",
        "tweet_protest.sort_values(\"date\", inplace = True,ascending = False)   #sort by date\n",
        "tweet_protest.drop_duplicates(subset=\"clean_text\", keep = \"first\", inplace = True)        #drop duplicate tweets\n",
        "                      \n",
        "tweet_protest = tweet_protest.reset_index(drop=True) #reset index\n",
        "print(\"Protest related tweets: \",tweet_protest.shape[0])"
      ],
      "execution_count": null,
      "outputs": []
    },
    {
      "cell_type": "markdown",
      "metadata": {
        "id": "L0gQ3BJFqGps"
      },
      "source": [
        "## Hoax/Deniers"
      ]
    },
    {
      "cell_type": "code",
      "metadata": {
        "id": "GdnKtcddlC9N"
      },
      "source": [
        "#hoax / deniers\n",
        "keywords = [\"hoax\",\"plandemic\",\"china virus\",\"CoronaJihad\",\"Chinesevirus\",\"bioweapon\",\"flu\",\"chinavirus\",\"fake\",\"fakevirus\"]"
      ],
      "execution_count": null,
      "outputs": []
    },
    {
      "cell_type": "code",
      "metadata": {
        "id": "bUt-UGl3mBD1"
      },
      "source": [
        "tweet_hoax = pd.DataFrame()\n",
        "\n",
        "for k in keywords :\n",
        "    tmp = tweets[tweets['clean_text'].str.lower().str.contains(k)]\n",
        "    tweet_hoax = tweet_hoax.append(tmp)\n",
        "    \n",
        "    \n",
        "    \n",
        "tweet_hoax.sort_values(\"date\", inplace = True,ascending = False)   #sort by date\n",
        "tweet_hoax.drop_duplicates(subset=\"clean_text\", keep = \"first\", inplace = True)        #drop duplicate tweets\n",
        "                      \n",
        "tweet_hoax = tweet_hoax.reset_index(drop=True) #reset index\n",
        "print(\"Hoax related tweets: \",tweet_hoax.shape[0])"
      ],
      "execution_count": null,
      "outputs": []
    },
    {
      "cell_type": "markdown",
      "metadata": {
        "id": "ajoLxniS-y5j"
      },
      "source": [
        "# Wordclouds"
      ]
    },
    {
      "cell_type": "markdown",
      "metadata": {
        "id": "4kx9HsPktE-H"
      },
      "source": [
        "## Masks"
      ]
    },
    {
      "cell_type": "code",
      "metadata": {
        "id": "vDyikhDsgv5A"
      },
      "source": [
        "text = tweet_masks.lemmatized_string\n",
        "wordcloud = WordCloud(\n",
        "    max_words = 100, \n",
        "    width = 2000,\n",
        "    height = 1000,\n",
        "    background_color = 'black',\n",
        "    ).generate(str(text))\n",
        "fig = plt.figure(\n",
        "    figsize = (30, 20),\n",
        "    facecolor = 'k',\n",
        "    edgecolor = 'k')\n",
        "plt.imshow(wordcloud, interpolation = 'bilinear')\n",
        "plt.axis('off')\n",
        "plt.tight_layout(pad=0)\n",
        "plt.show()"
      ],
      "execution_count": null,
      "outputs": []
    },
    {
      "cell_type": "markdown",
      "metadata": {
        "id": "97zN--letHaA"
      },
      "source": [
        "## Vaccines"
      ]
    },
    {
      "cell_type": "code",
      "metadata": {
        "id": "RrnptJzOtJJQ"
      },
      "source": [
        "text = tweet_vacc.lemmatized_string\n",
        "wordcloud = WordCloud(\n",
        "    max_words = 100, \n",
        "    width = 2000,\n",
        "    height = 1000,\n",
        "    background_color = 'black',\n",
        "    ).generate(str(text))\n",
        "fig = plt.figure(\n",
        "    figsize = (30, 20),\n",
        "    facecolor = 'k',\n",
        "    edgecolor = 'k')\n",
        "plt.imshow(wordcloud, interpolation = 'bilinear')\n",
        "plt.axis('off')\n",
        "plt.tight_layout(pad=0)\n",
        "plt.show()"
      ],
      "execution_count": null,
      "outputs": []
    },
    {
      "cell_type": "markdown",
      "metadata": {
        "id": "EZPYI3W9tLkh"
      },
      "source": [
        "## Protests"
      ]
    },
    {
      "cell_type": "code",
      "metadata": {
        "id": "zrOXl0JRtMuY"
      },
      "source": [
        "text = tweet_protest.lemmatized_string\n",
        "wordcloud = WordCloud(\n",
        "    max_words = 100, \n",
        "    width = 2000,\n",
        "    height = 1000,\n",
        "    background_color = 'black',\n",
        "    ).generate(str(text))\n",
        "fig = plt.figure(\n",
        "    figsize = (30, 20),\n",
        "    facecolor = 'k',\n",
        "    edgecolor = 'k')\n",
        "plt.imshow(wordcloud, interpolation = 'bilinear')\n",
        "plt.axis('off')\n",
        "plt.tight_layout(pad=0)\n",
        "plt.show()"
      ],
      "execution_count": null,
      "outputs": []
    },
    {
      "cell_type": "markdown",
      "metadata": {
        "id": "5KZBp_z_tPpV"
      },
      "source": [
        "## Hoax"
      ]
    },
    {
      "cell_type": "code",
      "metadata": {
        "id": "z06Suqa2tR0C"
      },
      "source": [
        "text = tweet_hoax.lemmatized_string\n",
        "wordcloud = WordCloud(\n",
        "    max_words = 100, \n",
        "    width = 2000,\n",
        "    height = 1000,\n",
        "    background_color = 'black',\n",
        "    ).generate(str(text))\n",
        "fig = plt.figure(\n",
        "    figsize = (30, 20),\n",
        "    facecolor = 'k',\n",
        "    edgecolor = 'k')\n",
        "plt.imshow(wordcloud, interpolation = 'bilinear')\n",
        "plt.axis('off')\n",
        "plt.tight_layout(pad=0)\n",
        "plt.show()"
      ],
      "execution_count": null,
      "outputs": []
    },
    {
      "cell_type": "markdown",
      "metadata": {
        "id": "CXbO4Hz9s0Yt"
      },
      "source": [
        "K-means text clustering: \n",
        "https://medium.com/@lucasdesa/text-clustering-with-k-means-a039d84a941b"
      ]
    },
    {
      "cell_type": "markdown",
      "metadata": {
        "id": "dqxiRT-bI02r"
      },
      "source": [
        "# Masks Dataframe"
      ]
    },
    {
      "cell_type": "code",
      "metadata": {
        "id": "cOF39u2nJEpk"
      },
      "source": [
        "tweet_masks.head()"
      ],
      "execution_count": null,
      "outputs": []
    },
    {
      "cell_type": "markdown",
      "metadata": {
        "id": "9MCgayuYhxty"
      },
      "source": [
        "##TFIDF Vectorizer"
      ]
    },
    {
      "cell_type": "code",
      "metadata": {
        "id": "L07GnciXKhAG"
      },
      "source": [
        "vectorizer = TfidfVectorizer(stop_words=stopwords_eng, \n",
        "max_features= 1000, # keep top 1000 terms\n",
        "max_df=0.3, \n",
        "min_df = 50, \n",
        "smooth_idf=True,\n",
        "use_idf = True,\n",
        "ngram_range=(1,2))\n",
        "\n",
        "#vectorizer = TfidfVectorizer(use_idf = True, ngram_range=(1,2))\n",
        "\n",
        " \n",
        "X = vectorizer.fit_transform(tweet_masks['lemmatized_string'])\n",
        "terms = vectorizer.get_feature_names()"
      ],
      "execution_count": null,
      "outputs": []
    },
    {
      "cell_type": "code",
      "metadata": {
        "colab": {
          "background_save": true
        },
        "id": "HhYTXFyBbRYA",
        "outputId": "5e1ac80f-aa1b-464e-b7fa-304a4315f4d2"
      },
      "source": [
        "#elbow method\n",
        "sns.set_style(\"whitegrid\")\n",
        "distortions = []\n",
        "K = range(1,20)\n",
        "for k in K:\n",
        "    km = KMeans(n_clusters=k)\n",
        "    km.fit(X)\n",
        "    distortions.append(km.inertia_)\n",
        "\n",
        "plt.figure(figsize=(16,8))\n",
        "plt.plot(K, distortions, 'bx-')\n",
        "plt.xlabel('k')\n",
        "plt.ylabel('Distortion')\n",
        "plt.title('The Elbow Method showing the optimal k')\n",
        "plt.show()"
      ],
      "execution_count": null,
      "outputs": [
        {
          "output_type": "display_data",
          "data": {
            "image/png": "[encoded data removed]",
            "text/plain": [
              "<Figure size 1152x576 with 1 Axes>"
            ]
          },
          "metadata": {
            "tags": []
          }
        }
      ]
    },
    {
      "cell_type": "markdown",
      "metadata": {
        "id": "KvM8UZP5iSyd"
      },
      "source": [
        "## Kmeans Clustering"
      ]
    },
    {
      "cell_type": "code",
      "metadata": {
        "colab": {
          "background_save": true
        },
        "id": "daU_GNXVKsK8"
      },
      "source": [
        "num_clusters = 12\n",
        "\n",
        "km = KMeans(n_clusters=num_clusters,init='k-means++', max_iter=100, n_init=10, random_state=1)\n",
        "\n",
        "labels = km.fit_predict(X)"
      ],
      "execution_count": null,
      "outputs": []
    },
    {
      "cell_type": "code",
      "metadata": {
        "colab": {
          "background_save": true
        },
        "id": "q5C9zHzlTanb"
      },
      "source": [
        "tweet_masks['cluster'] = labels"
      ],
      "execution_count": null,
      "outputs": []
    },
    {
      "cell_type": "code",
      "metadata": {
        "colab": {
          "background_save": true
        },
        "id": "IfAFM3OwKxMY",
        "outputId": "829833f1-3981-413c-d361-0e4c4bc2c25e"
      },
      "source": [
        "#most important n-gramms (words) in each cluster\n",
        "\n",
        "print(\"K-means clustering: \\n\")\n",
        "asc_order_centroids = km.cluster_centers_.argsort()#[:, ::-1]\n",
        "order_centroids = asc_order_centroids[:,::-1]\n",
        "terms = vectorizer.get_feature_names()\n",
        "for i in range(num_clusters):\n",
        "    print (\"Cluster %d:\" % i)\n",
        "    for ind in order_centroids[i, :10]:\n",
        "        print (' %s' % terms[ind])\n",
        "    print('\\n')\n"
      ],
      "execution_count": null,
      "outputs": [
        {
          "output_type": "stream",
          "text": [
            "K-means clustering: \n",
            "\n",
            "Cluster 0:\n",
            " covid mask\n",
            " make\n",
            " face\n",
            " face mask\n",
            " mandate\n",
            " wear\n",
            " mask covid\n",
            " maskup\n",
            " coronavirus covid\n",
            " coronavirus\n",
            "\n",
            "\n",
            "Cluster 1:\n",
            " shield\n",
            " face shield\n",
            " face\n",
            " protective\n",
            " fight covid\n",
            " fight\n",
            " mask face\n",
            " wear\n",
            " wear face\n",
            " face mask\n",
            "\n",
            "\n",
            "Cluster 2:\n",
            " facebook\n",
            " maskup\n",
            " make\n",
            " mandate\n",
            " need\n",
            " like\n",
            " wearadamnmask\n",
            " take\n",
            " work\n",
            " case\n",
            "\n",
            "\n",
            "Cluster 3:\n",
            " social distance\n",
            " social\n",
            " distance\n",
            " mask social\n",
            " wear\n",
            " wear mask\n",
            " hand\n",
            " wash\n",
            " distance wear\n",
            " wash hand\n",
            "\n",
            "\n",
            "Cluster 4:\n",
            " wearamask\n",
            " covid wearamask\n",
            " wearamask covid\n",
            " wearamask challenge\n",
            " challenge\n",
            " love\n",
            " one\n",
            " love one\n",
            " yuvstrong\n",
            " keep\n",
            "\n",
            "\n",
            "Cluster 5:\n",
            " coronavirus\n",
            " covid coronavirus\n",
            " coronavirus covid\n",
            " pandemic\n",
            " wearamask\n",
            " face\n",
            " covid covid\n",
            " wear\n",
            " maskup\n",
            " news\n",
            "\n",
            "\n",
            "Cluster 6:\n",
            " face\n",
            " face mask\n",
            " wear face\n",
            " wear\n",
            " cover\n",
            " covering\n",
            " face cover\n",
            " face covering\n",
            " face covid\n",
            " challenge\n",
            "\n",
            "\n",
            "Cluster 7:\n",
            " wear mask\n",
            " wear\n",
            " mask wear\n",
            " please\n",
            " everyone\n",
            " spread\n",
            " take\n",
            " keep\n",
            " protect\n",
            " make\n",
            "\n",
            "\n",
            "Cluster 8:\n",
            " facemasks\n",
            " healthandsafety\n",
            " shoppingonline\n",
            " gift\n",
            " onlineshopping\n",
            " healthandsafety onlineshopping\n",
            " gift shoppingonline\n",
            " facemasks facemasks\n",
            " facemasks gift\n",
            " shoppingonline healthandsafety\n",
            "\n",
            "\n",
            "Cluster 9:\n",
            " facemask\n",
            " wear facemask\n",
            " face mask\n",
            " face\n",
            " wear\n",
            " know\n",
            " coronavirus\n",
            " facemasks\n",
            " protection\n",
            " design\n",
            "\n",
            "\n",
            "Cluster 10:\n",
            " mask covid\n",
            " wear\n",
            " wear mask\n",
            " covid covid\n",
            " need\n",
            " make\n",
            " mask mask\n",
            " people\n",
            " face mask\n",
            " pandemic\n",
            "\n",
            "\n",
            "Cluster 11:\n",
            " people\n",
            " wear\n",
            " wear mask\n",
            " people wear\n",
            " face\n",
            " many\n",
            " like\n",
            " want\n",
            " know\n",
            " refuse\n",
            "\n",
            "\n"
          ],
          "name": "stdout"
        }
      ]
    },
    {
      "cell_type": "markdown",
      "metadata": {
        "id": "YuTj4oT1jNon"
      },
      "source": [
        "## Plot Cluster Size"
      ]
    },
    {
      "cell_type": "code",
      "metadata": {
        "colab": {
          "background_save": true
        },
        "id": "Og2ftDa0TYeq",
        "outputId": "4c0ceed8-d082-4086-cf8a-ef942a16ab4d"
      },
      "source": [
        "sns.set(rc={'figure.figsize':(13,9)})\n",
        "plt.style.use('fivethirtyeight')\n",
        "ax = sns.countplot(x='cluster', data=tweet_masks)\n",
        "ax.set_xticklabels(ax.get_xticklabels(), rotation=45)\n",
        "plt.show()"
      ],
      "execution_count": null,
      "outputs": [
        {
          "output_type": "display_data",
          "data": {
            "image/png": "[encoded data removed]",
            "text/plain": [
              "<Figure size 936x648 with 1 Axes>"
            ]
          },
          "metadata": {
            "tags": []
          }
        }
      ]
    },
    {
      "cell_type": "markdown",
      "metadata": {
        "id": "fwJxJzC9jPZB"
      },
      "source": [
        "##Sentiment Analysis"
      ]
    },
    {
      "cell_type": "code",
      "metadata": {
        "colab": {
          "background_save": true
        },
        "id": "c5bAkTWtMQlX"
      },
      "source": [
        "tweet_masks['emotion']=''"
      ],
      "execution_count": null,
      "outputs": []
    },
    {
      "cell_type": "code",
      "metadata": {
        "id": "NX-CvTrnL0AM"
      },
      "source": [
        "for i in range(1,tweet_masks.shape[0]):\n",
        "  text = tweet_masks['lemmatized_string'][i]\n",
        "  text_object = NRCLex(text)\n",
        "  tweet_masks['emotion'][i] = text_object.top_emotions[0][0]\n",
        "  #tweets['emotion_score'][i] = text_object.top_emotions[0][1]\n",
        "  #print(\"\\n\")\n",
        "  #print(text_object.words)\n",
        "  #print(text_object.top_emotions)\n",
        "  #print(i)\n",
        "  #print(\"\\n\")"
      ],
      "execution_count": null,
      "outputs": []
    },
    {
      "cell_type": "code",
      "metadata": {
        "colab": {
          "background_save": true
        },
        "id": "YofvkpBFLndC",
        "outputId": "23aba150-9375-4a4a-8f9d-2e8384e2073b"
      },
      "source": [
        "ax = sns.countplot(x= 'emotion', data=tweet_masks, order=['negative', 'positive', 'fear', 'surprise', 'sadness','trust','anticipation','anger', 'joy'])\\\n",
        ".set_title('Masks tweets emotions')\n",
        "plt.show()"
      ],
      "execution_count": null,
      "outputs": [
        {
          "output_type": "display_data",
          "data": {
            "image/png": "[encoded data removed]",
            "text/plain": [
              "<Figure size 936x648 with 1 Axes>"
            ]
          },
          "metadata": {
            "tags": []
          }
        }
      ]
    },
    {
      "cell_type": "markdown",
      "metadata": {
        "id": "XcAn6Ww0otGx"
      },
      "source": [
        "# Vaccines dataframe"
      ]
    },
    {
      "cell_type": "code",
      "metadata": {
        "colab": {
          "base_uri": "https://localhost:8080/",
          "height": 520
        },
        "id": "AvsOSvMfpHcU",
        "outputId": "21189c30-6c7a-4dc6-9ff3-9c9b1b135a44"
      },
      "source": [
        "tweet_vacc.head()"
      ],
      "execution_count": null,
      "outputs": [
        {
          "output_type": "execute_result",
          "data": {
            "text/html": [
              "<div>\n",
              "<style scoped>\n",
              "    .dataframe tbody tr th:only-of-type {\n",
              "        vertical-align: middle;\n",
              "    }\n",
              "\n",
              "    .dataframe tbody tr th {\n",
              "        vertical-align: top;\n",
              "    }\n",
              "\n",
              "    .dataframe thead th {\n",
              "        text-align: right;\n",
              "    }\n",
              "</style>\n",
              "<table border=\"1\" class=\"dataframe\">\n",
              "  <thead>\n",
              "    <tr style=\"text-align: right;\">\n",
              "      <th></th>\n",
              "      <th>index</th>\n",
              "      <th>user_name</th>\n",
              "      <th>user_location</th>\n",
              "      <th>user_description</th>\n",
              "      <th>user_created</th>\n",
              "      <th>user_followers</th>\n",
              "      <th>user_friends</th>\n",
              "      <th>user_favourites</th>\n",
              "      <th>user_verified</th>\n",
              "      <th>date</th>\n",
              "      <th>text</th>\n",
              "      <th>hashtags</th>\n",
              "      <th>source</th>\n",
              "      <th>is_retweet</th>\n",
              "      <th>clean_text</th>\n",
              "      <th>text_tokenized</th>\n",
              "      <th>text_lemmatized</th>\n",
              "      <th>text_stemmed</th>\n",
              "      <th>stemmed_string</th>\n",
              "      <th>lemmatized_string</th>\n",
              "      <th>day</th>\n",
              "    </tr>\n",
              "  </thead>\n",
              "  <tbody>\n",
              "    <tr>\n",
              "      <th>0</th>\n",
              "      <td>166718</td>\n",
              "      <td>Pragyan Mishra</td>\n",
              "      <td>Hyderabad | Vizag | Delhi</td>\n",
              "      <td>Loquacious | Trying to wake up from repeated b...</td>\n",
              "      <td>2014-06-27 10:38:14</td>\n",
              "      <td>93</td>\n",
              "      <td>180</td>\n",
              "      <td>162</td>\n",
              "      <td>False</td>\n",
              "      <td>2020-08-30 09:04:31</td>\n",
              "      <td>Religious leaders who claim that vaccination i...</td>\n",
              "      <td>NaN</td>\n",
              "      <td>Twitter for Android</td>\n",
              "      <td>False</td>\n",
              "      <td>religious leaders claim that vaccination again...</td>\n",
              "      <td>[religious, leaders, claim, vaccination, wishe...</td>\n",
              "      <td>[religious, leader, claim, vaccination, wish, ...</td>\n",
              "      <td>[religi, leader, claim, vaccin, wish, allow, d...</td>\n",
              "      <td>religi leader claim vaccin wish allow develop</td>\n",
              "      <td>religious leader claim vaccination wish allow ...</td>\n",
              "      <td>2020-08-30</td>\n",
              "    </tr>\n",
              "    <tr>\n",
              "      <th>1</th>\n",
              "      <td>166751</td>\n",
              "      <td>stefano monzo</td>\n",
              "      <td>London, England</td>\n",
              "      <td>Chase your passion (not you pension!). Digital...</td>\n",
              "      <td>2013-06-07 09:09:07</td>\n",
              "      <td>1213</td>\n",
              "      <td>882</td>\n",
              "      <td>1056</td>\n",
              "      <td>False</td>\n",
              "      <td>2020-08-30 09:02:45</td>\n",
              "      <td>\"Short cuts in testing for #vaccine safety and...</td>\n",
              "      <td>['vaccine']</td>\n",
              "      <td>Twitter for Android</td>\n",
              "      <td>False</td>\n",
              "      <td>short cuts testing vaccine safety efficacy end...</td>\n",
              "      <td>[short, cuts, testing, vaccine, safety, effica...</td>\n",
              "      <td>[short, cut, test, vaccine, safety, efficacy, ...</td>\n",
              "      <td>[short, cut, test, vaccin, safeti, efficaci, e...</td>\n",
              "      <td>short cut test vaccin safeti efficaci endang m...</td>\n",
              "      <td>short cut test vaccine safety efficacy endange...</td>\n",
              "      <td>2020-08-30</td>\n",
              "    </tr>\n",
              "    <tr>\n",
              "      <th>2</th>\n",
              "      <td>166772</td>\n",
              "      <td>Constantinos Tsioutis</td>\n",
              "      <td>Cyprus</td>\n",
              "      <td>Asst. Prof @EuropeanUniCy. \\nInternal Medicine...</td>\n",
              "      <td>2017-06-11 15:28:40</td>\n",
              "      <td>577</td>\n",
              "      <td>439</td>\n",
              "      <td>3746</td>\n",
              "      <td>True</td>\n",
              "      <td>2020-08-30 09:01:52</td>\n",
              "      <td>Some good reads on considerations related to #...</td>\n",
              "      <td>['COVID19', 'vaccine']</td>\n",
              "      <td>Twitter Web App</td>\n",
              "      <td>False</td>\n",
              "      <td>some good reads considerations related covid v...</td>\n",
              "      <td>[good, reads, considerations, related, covid, ...</td>\n",
              "      <td>[good, read, consideration, related, covid, va...</td>\n",
              "      <td>[good, read, consider, relat, covid, vaccin, t...</td>\n",
              "      <td>good read consider relat covid vaccin trial ef...</td>\n",
              "      <td>good read consideration related covid vaccine ...</td>\n",
              "      <td>2020-08-30</td>\n",
              "    </tr>\n",
              "    <tr>\n",
              "      <th>3</th>\n",
              "      <td>166802</td>\n",
              "      <td>DTR Medical ®</td>\n",
              "      <td>Swansea</td>\n",
              "      <td>Multiple award winning medical device manufact...</td>\n",
              "      <td>2010-09-12 15:44:37</td>\n",
              "      <td>3235</td>\n",
              "      <td>3681</td>\n",
              "      <td>1473</td>\n",
              "      <td>False</td>\n",
              "      <td>2020-08-30 09:00:50</td>\n",
              "      <td>COVID-19 vaccine studies volunteers’ figures a...</td>\n",
              "      <td>['vaccine', 'NHS', 'COVID19']</td>\n",
              "      <td>Hootsuite Inc.</td>\n",
              "      <td>False</td>\n",
              "      <td>covid vaccine studies volunteers figures visib...</td>\n",
              "      <td>[covid, vaccine, studies, volunteers, figures,...</td>\n",
              "      <td>[covid, vaccine, study, volunteer, figure, vis...</td>\n",
              "      <td>[covid, vaccin, studi, volunt, figur, visibl, ...</td>\n",
              "      <td>covid vaccin studi volunt figur visibl digit d...</td>\n",
              "      <td>covid vaccine study volunteer figure visible d...</td>\n",
              "      <td>2020-08-30</td>\n",
              "    </tr>\n",
              "    <tr>\n",
              "      <th>4</th>\n",
              "      <td>166929</td>\n",
              "      <td>Sollencia</td>\n",
              "      <td>United States</td>\n",
              "      <td>The latest world, business, stock market, scie...</td>\n",
              "      <td>2015-09-04 03:53:27</td>\n",
              "      <td>21</td>\n",
              "      <td>99</td>\n",
              "      <td>5</td>\n",
              "      <td>False</td>\n",
              "      <td>2020-08-30 08:55:29</td>\n",
              "      <td>#Moderna says its #Covid19 vaccine shows promi...</td>\n",
              "      <td>['Moderna', 'Covid19']</td>\n",
              "      <td>Twitter Web App</td>\n",
              "      <td>False</td>\n",
              "      <td>moderna says covid vaccine shows promising res...</td>\n",
              "      <td>[moderna, says, covid, vaccine, shows, promisi...</td>\n",
              "      <td>[moderna, say, covid, vaccine, show, promising...</td>\n",
              "      <td>[moderna, say, covid, vaccin, show, promis, re...</td>\n",
              "      <td>moderna say covid vaccin show promis result ol...</td>\n",
              "      <td>moderna say covid vaccine show promising resul...</td>\n",
              "      <td>2020-08-30</td>\n",
              "    </tr>\n",
              "  </tbody>\n",
              "</table>\n",
              "</div>"
            ],
            "text/plain": [
              "    index              user_name              user_location                                   user_description         user_created  user_followers  user_friends  user_favourites  user_verified                date                                               text                       hashtags               source  is_retweet                                         clean_text                                     text_tokenized                                    text_lemmatized                                       text_stemmed                                     stemmed_string                                  lemmatized_string        day\n",
              "0  166718         Pragyan Mishra  Hyderabad | Vizag | Delhi  Loquacious | Trying to wake up from repeated b...  2014-06-27 10:38:14              93           180              162          False 2020-08-30 09:04:31  Religious leaders who claim that vaccination i...                            NaN  Twitter for Android       False  religious leaders claim that vaccination again...  [religious, leaders, claim, vaccination, wishe...  [religious, leader, claim, vaccination, wish, ...  [religi, leader, claim, vaccin, wish, allow, d...      religi leader claim vaccin wish allow develop  religious leader claim vaccination wish allow ... 2020-08-30\n",
              "1  166751          stefano monzo            London, England  Chase your passion (not you pension!). Digital...  2013-06-07 09:09:07            1213           882             1056          False 2020-08-30 09:02:45  \"Short cuts in testing for #vaccine safety and...                    ['vaccine']  Twitter for Android       False  short cuts testing vaccine safety efficacy end...  [short, cuts, testing, vaccine, safety, effica...  [short, cut, test, vaccine, safety, efficacy, ...  [short, cut, test, vaccin, safeti, efficaci, e...  short cut test vaccin safeti efficaci endang m...  short cut test vaccine safety efficacy endange... 2020-08-30\n",
              "2  166772  Constantinos Tsioutis                     Cyprus  Asst. Prof @EuropeanUniCy. \\nInternal Medicine...  2017-06-11 15:28:40             577           439             3746           True 2020-08-30 09:01:52  Some good reads on considerations related to #...         ['COVID19', 'vaccine']      Twitter Web App       False  some good reads considerations related covid v...  [good, reads, considerations, related, covid, ...  [good, read, consideration, related, covid, va...  [good, read, consider, relat, covid, vaccin, t...  good read consider relat covid vaccin trial ef...  good read consideration related covid vaccine ... 2020-08-30\n",
              "3  166802          DTR Medical ®                    Swansea  Multiple award winning medical device manufact...  2010-09-12 15:44:37            3235          3681             1473          False 2020-08-30 09:00:50  COVID-19 vaccine studies volunteers’ figures a...  ['vaccine', 'NHS', 'COVID19']       Hootsuite Inc.       False  covid vaccine studies volunteers figures visib...  [covid, vaccine, studies, volunteers, figures,...  [covid, vaccine, study, volunteer, figure, vis...  [covid, vaccin, studi, volunt, figur, visibl, ...  covid vaccin studi volunt figur visibl digit d...  covid vaccine study volunteer figure visible d... 2020-08-30\n",
              "4  166929              Sollencia              United States  The latest world, business, stock market, scie...  2015-09-04 03:53:27              21            99                5          False 2020-08-30 08:55:29  #Moderna says its #Covid19 vaccine shows promi...         ['Moderna', 'Covid19']      Twitter Web App       False  moderna says covid vaccine shows promising res...  [moderna, says, covid, vaccine, shows, promisi...  [moderna, say, covid, vaccine, show, promising...  [moderna, say, covid, vaccin, show, promis, re...  moderna say covid vaccin show promis result ol...  moderna say covid vaccine show promising resul... 2020-08-30"
            ]
          },
          "metadata": {
            "tags": []
          },
          "execution_count": 81
        }
      ]
    },
    {
      "cell_type": "markdown",
      "metadata": {
        "id": "-3ZDil1xpHcW"
      },
      "source": [
        "##TFIDF Vectorizer"
      ]
    },
    {
      "cell_type": "code",
      "metadata": {
        "id": "1lG8ynpmpHcX"
      },
      "source": [
        "vectorizer = TfidfVectorizer(stop_words=stopwords_eng, \n",
        "max_features= 1000, # keep top 1000 terms\n",
        "max_df=0.3, \n",
        "min_df = 50, \n",
        "smooth_idf=True,\n",
        "use_idf = True,\n",
        "ngram_range=(1,2))\n",
        "\n",
        "#vectorizer = TfidfVectorizer(use_idf = True, ngram_range=(1,2))\n",
        "\n",
        " \n",
        "X = vectorizer.fit_transform(tweet_vacc['lemmatized_string'])\n",
        "terms = vectorizer.get_feature_names()"
      ],
      "execution_count": null,
      "outputs": []
    },
    {
      "cell_type": "code",
      "metadata": {
        "colab": {
          "base_uri": "https://localhost:8080/",
          "height": 512
        },
        "id": "H0B9-uzLiY92",
        "outputId": "8dde9b59-2cef-481b-e0bf-9d8da33fd536"
      },
      "source": [
        "#elbow method\n",
        "sns.set_style(\"whitegrid\")\n",
        "distortions = []\n",
        "K = range(1,20)\n",
        "for k in K:\n",
        "    km = KMeans(n_clusters=k)\n",
        "    km.fit(X)\n",
        "    distortions.append(km.inertia_)\n",
        "\n",
        "plt.figure(figsize=(16,8))\n",
        "plt.plot(K, distortions, 'bx-')\n",
        "plt.xlabel('k')\n",
        "plt.ylabel('Distortion')\n",
        "plt.title('The Elbow Method showing the optimal k')\n",
        "plt.show()"
      ],
      "execution_count": null,
      "outputs": [
        {
          "output_type": "display_data",
          "data": {
            "image/png": "[encoded data removed]",
            "text/plain": [
              "<Figure size 1152x576 with 1 Axes>"
            ]
          },
          "metadata": {
            "tags": []
          }
        }
      ]
    },
    {
      "cell_type": "markdown",
      "metadata": {
        "id": "VMJwCcvfpHcY"
      },
      "source": [
        "## Kmeans Clustering"
      ]
    },
    {
      "cell_type": "code",
      "metadata": {
        "id": "Sf1rb3UPpHcZ"
      },
      "source": [
        "num_clusters = 10\n",
        "\n",
        "km = KMeans(n_clusters=num_clusters,init='k-means++', max_iter=100, n_init=10, random_state=1)\n",
        "\n",
        "labels = km.fit_predict(X)"
      ],
      "execution_count": null,
      "outputs": []
    },
    {
      "cell_type": "code",
      "metadata": {
        "id": "c9OblsDopHca"
      },
      "source": [
        "tweet_vacc['cluster'] = labels"
      ],
      "execution_count": null,
      "outputs": []
    },
    {
      "cell_type": "code",
      "metadata": {
        "colab": {
          "base_uri": "https://localhost:8080/"
        },
        "id": "s9ezbVVcpHcb",
        "outputId": "23a248cb-51d2-4d1a-9b9e-b00fcb8020eb"
      },
      "source": [
        "#most important n-gramms (words) in each cluster\n",
        "\n",
        "print(\"K-means clustering: \\n\")\n",
        "asc_order_centroids = km.cluster_centers_.argsort()#[:, ::-1]\n",
        "order_centroids = asc_order_centroids[:,::-1]\n",
        "terms = vectorizer.get_feature_names()\n",
        "for i in range(num_clusters):\n",
        "    print (\"Cluster %d:\" % i)\n",
        "    for ind in order_centroids[i, :10]:\n",
        "        print (' %s' % terms[ind])\n",
        "    print('\\n')\n"
      ],
      "execution_count": null,
      "outputs": [
        {
          "output_type": "stream",
          "text": [
            "K-means clustering: \n",
            "\n",
            "Cluster 0:\n",
            " russia\n",
            " first\n",
            " first covid\n",
            " first covid vaccine\n",
            " world\n",
            " world first\n",
            " putin\n",
            " register\n",
            " country\n",
            " russia covid\n",
            "\n",
            "\n",
            "Cluster 1:\n",
            " coronavirus\n",
            " coronavirus vaccine\n",
            " covid coronavirus\n",
            " coronavirus covid\n",
            " russia\n",
            " coronavaccine\n",
            " news\n",
            " coronavirusvaccine\n",
            " race\n",
            " say\n",
            "\n",
            "\n",
            "Cluster 2:\n",
            " trial\n",
            " vaccine trial\n",
            " covid vaccine trial\n",
            " phase\n",
            " clinical\n",
            " clinical trial\n",
            " trial covid\n",
            " phase trial\n",
            " volunteer\n",
            " moderna\n",
            "\n",
            "\n",
            "Cluster 3:\n",
            " vaccination\n",
            " plan\n",
            " would\n",
            " pandemic\n",
            " russia\n",
            " year\n",
            " coronavirus\n",
            " safe\n",
            " news\n",
            " health\n",
            "\n",
            "\n",
            "Cluster 4:\n",
            " vaccine covid\n",
            " russia\n",
            " even\n",
            " find\n",
            " russian\n",
            " need\n",
            " first\n",
            " could\n",
            " available\n",
            " say\n",
            "\n",
            "\n",
            "Cluster 5:\n",
            " effective\n",
            " safe\n",
            " fauci\n",
            " vaccine covid\n",
            " develop\n",
            " coronavirus\n",
            " race\n",
            " world\n",
            " need\n",
            " china\n",
            "\n",
            "\n",
            "Cluster 6:\n",
            " putin\n",
            " putin say\n",
            " president\n",
            " say\n",
            " first\n",
            " russia\n",
            " vladimir\n",
            " vladimir putin\n",
            " president vladimir\n",
            " daughter\n",
            "\n",
            "\n",
            "Cluster 7:\n",
            " take\n",
            " would\n",
            " vaccine covid\n",
            " russian\n",
            " year\n",
            " trump\n",
            " vaccination\n",
            " volunteer\n",
            " even\n",
            " come\n",
            "\n",
            "\n",
            "Cluster 8:\n",
            " ready\n",
            " say\n",
            " india\n",
            " oxford\n",
            " human\n",
            " trial\n",
            " year\n",
            " could\n",
            " russian\n",
            " phase\n",
            "\n",
            "\n",
            "Cluster 9:\n",
            " work\n",
            " make\n",
            " people\n",
            " test\n",
            " need\n",
            " year\n",
            " development\n",
            " say\n",
            " moderna\n",
            " russian\n",
            "\n",
            "\n"
          ],
          "name": "stdout"
        }
      ]
    },
    {
      "cell_type": "markdown",
      "metadata": {
        "id": "zNjt2QGlpHcc"
      },
      "source": [
        "## Plot Cluster Size"
      ]
    },
    {
      "cell_type": "code",
      "metadata": {
        "colab": {
          "base_uri": "https://localhost:8080/",
          "height": 592
        },
        "id": "Gnb0uTZFpHcc",
        "outputId": "1d951897-72da-4fa3-d757-fbd30aab91b0"
      },
      "source": [
        "sns.set(rc={'figure.figsize':(13,9)})\n",
        "plt.style.use('fivethirtyeight')\n",
        "ax = sns.countplot(x='cluster', data=tweet_vacc)\n",
        "ax.set_xticklabels(ax.get_xticklabels(), rotation=45)\n",
        "plt.show()"
      ],
      "execution_count": null,
      "outputs": [
        {
          "output_type": "display_data",
          "data": {
            "image/png": "[encoded data removed]",
            "text/plain": [
              "<Figure size 936x648 with 1 Axes>"
            ]
          },
          "metadata": {
            "tags": []
          }
        }
      ]
    },
    {
      "cell_type": "markdown",
      "metadata": {
        "id": "EPGk_dGdpHcd"
      },
      "source": [
        "##Sentiment Analysis"
      ]
    },
    {
      "cell_type": "code",
      "metadata": {
        "id": "e0rItd1QpHcd"
      },
      "source": [
        "tweet_vacc['emotion']=''"
      ],
      "execution_count": null,
      "outputs": []
    },
    {
      "cell_type": "code",
      "metadata": {
        "colab": {
          "base_uri": "https://localhost:8080/"
        },
        "id": "cZgK3c_LpHce",
        "outputId": "812f918a-2d88-4c83-8822-84b93a765998"
      },
      "source": [
        "for i in range(1,tweet_vacc.shape[0]):\n",
        "  text = tweet_vacc['lemmatized_string'][i]\n",
        "  text_object = NRCLex(text)\n",
        "  tweet_vacc['emotion'][i] = text_object.top_emotions[0][0]\n",
        "  #tweets['emotion_score'][i] = text_object.top_emotions[0][1]\n",
        "  #print(\"\\n\")\n",
        "  #print(text_object.words)\n",
        "  #print(text_object.top_emotions)\n",
        "  #print(i)\n",
        "  #print(\"\\n\")"
      ],
      "execution_count": null,
      "outputs": [
        {
          "output_type": "stream",
          "text": [
            "/usr/local/lib/python3.6/dist-packages/ipykernel_launcher.py:4: SettingWithCopyWarning:\n",
            "\n",
            "\n",
            "A value is trying to be set on a copy of a slice from a DataFrame\n",
            "\n",
            "See the caveats in the documentation: https://pandas.pydata.org/pandas-docs/stable/user_guide/indexing.html#returning-a-view-versus-a-copy\n",
            "\n"
          ],
          "name": "stderr"
        }
      ]
    },
    {
      "cell_type": "code",
      "metadata": {
        "colab": {
          "base_uri": "https://localhost:8080/",
          "height": 612
        },
        "id": "STuqnoJwpHcf",
        "outputId": "b696f554-255a-4577-9eaf-3b9da8107a0b"
      },
      "source": [
        "ax = sns.countplot(x= 'emotion', data=tweet_vacc, order=['negative', 'positive', 'fear', 'surprise', 'sadness','trust','anticipation','anger', 'joy'])\\\n",
        ".set_title('Vaccine tweets emotions')\n",
        "plt.show()"
      ],
      "execution_count": null,
      "outputs": [
        {
          "output_type": "display_data",
          "data": {
            "image/png": "[encoded data removed]",
            "text/plain": [
              "<Figure size 936x648 with 1 Axes>"
            ]
          },
          "metadata": {
            "tags": []
          }
        }
      ]
    },
    {
      "cell_type": "markdown",
      "metadata": {
        "id": "FGq1dG0WptHF"
      },
      "source": [
        "# Protests dataframe"
      ]
    },
    {
      "cell_type": "code",
      "metadata": {
        "colab": {
          "base_uri": "https://localhost:8080/",
          "height": 487
        },
        "id": "oUYjZH37p0vc",
        "outputId": "f8818be6-64fd-49ad-86c6-575caa752052"
      },
      "source": [
        "tweet_protest.head()"
      ],
      "execution_count": null,
      "outputs": [
        {
          "output_type": "execute_result",
          "data": {
            "text/html": [
              "<div>\n",
              "<style scoped>\n",
              "    .dataframe tbody tr th:only-of-type {\n",
              "        vertical-align: middle;\n",
              "    }\n",
              "\n",
              "    .dataframe tbody tr th {\n",
              "        vertical-align: top;\n",
              "    }\n",
              "\n",
              "    .dataframe thead th {\n",
              "        text-align: right;\n",
              "    }\n",
              "</style>\n",
              "<table border=\"1\" class=\"dataframe\">\n",
              "  <thead>\n",
              "    <tr style=\"text-align: right;\">\n",
              "      <th></th>\n",
              "      <th>index</th>\n",
              "      <th>user_name</th>\n",
              "      <th>user_location</th>\n",
              "      <th>user_description</th>\n",
              "      <th>user_created</th>\n",
              "      <th>user_followers</th>\n",
              "      <th>user_friends</th>\n",
              "      <th>user_favourites</th>\n",
              "      <th>user_verified</th>\n",
              "      <th>date</th>\n",
              "      <th>text</th>\n",
              "      <th>hashtags</th>\n",
              "      <th>source</th>\n",
              "      <th>is_retweet</th>\n",
              "      <th>clean_text</th>\n",
              "      <th>text_tokenized</th>\n",
              "      <th>text_lemmatized</th>\n",
              "      <th>text_stemmed</th>\n",
              "      <th>stemmed_string</th>\n",
              "      <th>lemmatized_string</th>\n",
              "      <th>day</th>\n",
              "    </tr>\n",
              "  </thead>\n",
              "  <tbody>\n",
              "    <tr>\n",
              "      <th>0</th>\n",
              "      <td>166684</td>\n",
              "      <td>Anastasia Tamar</td>\n",
              "      <td>NaN</td>\n",
              "      <td>PhD, ❤️ for ISRAEL ✡️🇸🇻, animals, truth, goodn...</td>\n",
              "      <td>2015-05-02 21:12:47</td>\n",
              "      <td>648</td>\n",
              "      <td>1035</td>\n",
              "      <td>124437</td>\n",
              "      <td>False</td>\n",
              "      <td>2020-08-30 09:06:07</td>\n",
              "      <td>Where’s the condemnation for the rioters and p...</td>\n",
              "      <td>['COVID19']</td>\n",
              "      <td>Twitter for iPhone</td>\n",
              "      <td>False</td>\n",
              "      <td>where condemnation rioters protesters here act...</td>\n",
              "      <td>[condemnation, rioters, protesters, actual, up...</td>\n",
              "      <td>[condemnation, rioter, protester, actual, upda...</td>\n",
              "      <td>[condemn, rioter, protest, actual, updat, numb...</td>\n",
              "      <td>condemn rioter protest actual updat number cov...</td>\n",
              "      <td>condemnation rioter protester actual update nu...</td>\n",
              "      <td>2020-08-30</td>\n",
              "    </tr>\n",
              "    <tr>\n",
              "      <th>1</th>\n",
              "      <td>166697</td>\n",
              "      <td>The Connexion</td>\n",
              "      <td>France</td>\n",
              "      <td>France's English newspaper | Le journal frança...</td>\n",
              "      <td>2009-07-04 22:54:58</td>\n",
              "      <td>8081</td>\n",
              "      <td>1080</td>\n",
              "      <td>221</td>\n",
              "      <td>False</td>\n",
              "      <td>2020-08-30 09:05:42</td>\n",
              "      <td>An anti-mask protest in #Paris this weekend dr...</td>\n",
              "      <td>['Paris']</td>\n",
              "      <td>Twitter Web App</td>\n",
              "      <td>False</td>\n",
              "      <td>anti mask protest paris this weekend drew peop...</td>\n",
              "      <td>[anti, mask, protest, paris, weekend, drew, pe...</td>\n",
              "      <td>[anti, mask, protest, paris, weekend, drew, pe...</td>\n",
              "      <td>[anti, mask, protest, pari, weekend, drew, peo...</td>\n",
              "      <td>anti mask protest pari weekend drew peopl end ...</td>\n",
              "      <td>anti mask protest paris weekend drew people en...</td>\n",
              "      <td>2020-08-30</td>\n",
              "    </tr>\n",
              "    <tr>\n",
              "      <th>2</th>\n",
              "      <td>166707</td>\n",
              "      <td>Nathan Nordland</td>\n",
              "      <td>NaN</td>\n",
              "      <td>NaN</td>\n",
              "      <td>2020-07-21 13:52:08</td>\n",
              "      <td>21</td>\n",
              "      <td>83</td>\n",
              "      <td>3489</td>\n",
              "      <td>False</td>\n",
              "      <td>2020-08-30 09:05:01</td>\n",
              "      <td>@theheraldsun He just needs to say he is a #BL...</td>\n",
              "      <td>['BLM', 'COVID19']</td>\n",
              "      <td>Twitter for Android</td>\n",
              "      <td>False</td>\n",
              "      <td>theheraldsun just needs protester then good ap...</td>\n",
              "      <td>[theheraldsun, needs, protester, good, apparen...</td>\n",
              "      <td>[theheraldsun, need, protester, good, apparent...</td>\n",
              "      <td>[theheraldsun, need, protest, good, appar, cov...</td>\n",
              "      <td>theheraldsun need protest good appar covid aff...</td>\n",
              "      <td>theheraldsun need protester good apparently co...</td>\n",
              "      <td>2020-08-30</td>\n",
              "    </tr>\n",
              "    <tr>\n",
              "      <th>3</th>\n",
              "      <td>166722</td>\n",
              "      <td>AJ McClain#3•5%#FBPE🏴󠁧󠁢󠁳󠁣󠁴󠁿</td>\n",
              "      <td>Galloway, Scotland</td>\n",
              "      <td>Gallovidian writer\\n\\nGalloway, The Life &amp; Tim...</td>\n",
              "      <td>2017-11-12 18:33:20</td>\n",
              "      <td>150</td>\n",
              "      <td>514</td>\n",
              "      <td>1192</td>\n",
              "      <td>False</td>\n",
              "      <td>2020-08-30 09:04:17</td>\n",
              "      <td>@DailyMirror @coralangs Impatience is killing ...</td>\n",
              "      <td>NaN</td>\n",
              "      <td>Twitter for Android</td>\n",
              "      <td>False</td>\n",
              "      <td>dailymirror coralangs impatience killing thous...</td>\n",
              "      <td>[dailymirror, coralangs, impatience, killing, ...</td>\n",
              "      <td>[dailymirror, coralangs, impatience, kill, tho...</td>\n",
              "      <td>[dailymirror, coralang, impati, kill, thousand...</td>\n",
              "      <td>dailymirror coralang impati kill thousand want...</td>\n",
              "      <td>dailymirror coralangs impatience kill thousand...</td>\n",
              "      <td>2020-08-30</td>\n",
              "    </tr>\n",
              "    <tr>\n",
              "      <th>4</th>\n",
              "      <td>166762</td>\n",
              "      <td>The Fraser Faithful</td>\n",
              "      <td>Fraser Field, Lynn, Mass.</td>\n",
              "      <td>#NavsMediaRow, the press table in Sec.207 at F...</td>\n",
              "      <td>2017-06-14 22:03:43</td>\n",
              "      <td>78</td>\n",
              "      <td>40</td>\n",
              "      <td>512</td>\n",
              "      <td>False</td>\n",
              "      <td>2020-08-30 09:02:12</td>\n",
              "      <td>Oh my, gigantic #Covid19 \"Never Mind\" from @NY...</td>\n",
              "      <td>['Covid19']</td>\n",
              "      <td>Twitter Web App</td>\n",
              "      <td>False</td>\n",
              "      <td>gigantic covid never mind from nytimes always ...</td>\n",
              "      <td>[gigantic, covid, never, mind, nytimes, always...</td>\n",
              "      <td>[gigantic, covid, never, mind, nytimes, always...</td>\n",
              "      <td>[gigant, covid, never, mind, nytim, alway, dos...</td>\n",
              "      <td>gigant covid never mind nytim alway dosag matt...</td>\n",
              "      <td>gigantic covid never mind nytimes always dosag...</td>\n",
              "      <td>2020-08-30</td>\n",
              "    </tr>\n",
              "  </tbody>\n",
              "</table>\n",
              "</div>"
            ],
            "text/plain": [
              "    index                    user_name              user_location                                   user_description         user_created  user_followers  user_friends  user_favourites  user_verified                date                                               text            hashtags               source  is_retweet                                         clean_text                                     text_tokenized                                    text_lemmatized                                       text_stemmed                                     stemmed_string                                  lemmatized_string        day\n",
              "0  166684              Anastasia Tamar                        NaN  PhD, ❤️ for ISRAEL ✡️🇸🇻, animals, truth, goodn...  2015-05-02 21:12:47             648          1035           124437          False 2020-08-30 09:06:07  Where’s the condemnation for the rioters and p...         ['COVID19']   Twitter for iPhone       False  where condemnation rioters protesters here act...  [condemnation, rioters, protesters, actual, up...  [condemnation, rioter, protester, actual, upda...  [condemn, rioter, protest, actual, updat, numb...  condemn rioter protest actual updat number cov...  condemnation rioter protester actual update nu... 2020-08-30\n",
              "1  166697                The Connexion                     France  France's English newspaper | Le journal frança...  2009-07-04 22:54:58            8081          1080              221          False 2020-08-30 09:05:42  An anti-mask protest in #Paris this weekend dr...           ['Paris']      Twitter Web App       False  anti mask protest paris this weekend drew peop...  [anti, mask, protest, paris, weekend, drew, pe...  [anti, mask, protest, paris, weekend, drew, pe...  [anti, mask, protest, pari, weekend, drew, peo...  anti mask protest pari weekend drew peopl end ...  anti mask protest paris weekend drew people en... 2020-08-30\n",
              "2  166707              Nathan Nordland                        NaN                                                NaN  2020-07-21 13:52:08              21            83             3489          False 2020-08-30 09:05:01  @theheraldsun He just needs to say he is a #BL...  ['BLM', 'COVID19']  Twitter for Android       False  theheraldsun just needs protester then good ap...  [theheraldsun, needs, protester, good, apparen...  [theheraldsun, need, protester, good, apparent...  [theheraldsun, need, protest, good, appar, cov...  theheraldsun need protest good appar covid aff...  theheraldsun need protester good apparently co... 2020-08-30\n",
              "3  166722  AJ McClain#3•5%#FBPE🏴󠁧󠁢󠁳󠁣󠁴󠁿         Galloway, Scotland  Gallovidian writer\\n\\nGalloway, The Life & Tim...  2017-11-12 18:33:20             150           514             1192          False 2020-08-30 09:04:17  @DailyMirror @coralangs Impatience is killing ...                 NaN  Twitter for Android       False  dailymirror coralangs impatience killing thous...  [dailymirror, coralangs, impatience, killing, ...  [dailymirror, coralangs, impatience, kill, tho...  [dailymirror, coralang, impati, kill, thousand...  dailymirror coralang impati kill thousand want...  dailymirror coralangs impatience kill thousand... 2020-08-30\n",
              "4  166762          The Fraser Faithful  Fraser Field, Lynn, Mass.  #NavsMediaRow, the press table in Sec.207 at F...  2017-06-14 22:03:43              78            40              512          False 2020-08-30 09:02:12  Oh my, gigantic #Covid19 \"Never Mind\" from @NY...         ['Covid19']      Twitter Web App       False  gigantic covid never mind from nytimes always ...  [gigantic, covid, never, mind, nytimes, always...  [gigantic, covid, never, mind, nytimes, always...  [gigant, covid, never, mind, nytim, alway, dos...  gigant covid never mind nytim alway dosag matt...  gigantic covid never mind nytimes always dosag... 2020-08-30"
            ]
          },
          "metadata": {
            "tags": []
          },
          "execution_count": 122
        }
      ]
    },
    {
      "cell_type": "markdown",
      "metadata": {
        "id": "-QXjSUWUp0ve"
      },
      "source": [
        "##TFIDF Vectorizer"
      ]
    },
    {
      "cell_type": "code",
      "metadata": {
        "id": "pdYbenymp0vf"
      },
      "source": [
        "vectorizer = TfidfVectorizer(stop_words=stopwords_eng, \n",
        "max_features= 250, # keep top 1000 terms\n",
        "max_df=0.3, \n",
        "min_df = 50, \n",
        "smooth_idf=True,\n",
        "use_idf = True,\n",
        "ngram_range=(1,3))\n",
        "\n",
        "#vectorizer = TfidfVectorizer(use_idf = True, ngram_range=(1,2))\n",
        "\n",
        " \n",
        "X = vectorizer.fit_transform(tweet_protest['lemmatized_string'])\n",
        "terms = vectorizer.get_feature_names()"
      ],
      "execution_count": null,
      "outputs": []
    },
    {
      "cell_type": "markdown",
      "metadata": {
        "id": "1S0VStolp0vf"
      },
      "source": [
        "## Kmeans Clustering"
      ]
    },
    {
      "cell_type": "code",
      "metadata": {
        "id": "w9P6au6lp0vf"
      },
      "source": [
        "num_clusters = 10\n",
        "\n",
        "km = KMeans(n_clusters=num_clusters,init='k-means++', max_iter=100, n_init=10, random_state=1)\n",
        "\n",
        "labels = km.fit_predict(X)"
      ],
      "execution_count": null,
      "outputs": []
    },
    {
      "cell_type": "code",
      "metadata": {
        "id": "JdCCaEBzp0vg"
      },
      "source": [
        "tweet_protest['cluster'] = labels"
      ],
      "execution_count": null,
      "outputs": []
    },
    {
      "cell_type": "code",
      "metadata": {
        "colab": {
          "base_uri": "https://localhost:8080/"
        },
        "id": "AYGU9rQMp0vg",
        "outputId": "df049d79-900e-4e21-a5ef-767c0357344d"
      },
      "source": [
        "#most important n-gramms (words) in each cluster\n",
        "\n",
        "print(\"K-means clustering: \\n\")\n",
        "asc_order_centroids = km.cluster_centers_.argsort()#[:, ::-1]\n",
        "order_centroids = asc_order_centroids[:,::-1]\n",
        "terms = vectorizer.get_feature_names()\n",
        "for i in range(num_clusters):\n",
        "    print (\"Cluster %d:\" % i)\n",
        "    for ind in order_centroids[i, :10]:\n",
        "        print (' %s' % terms[ind])\n",
        "    print('\\n')\n"
      ],
      "execution_count": null,
      "outputs": [
        {
          "output_type": "stream",
          "text": [
            "K-means clustering: \n",
            "\n",
            "Cluster 0:\n",
            " govrondesantis\n",
            " conflict\n",
            " riot\n",
            " florida\n",
            " want\n",
            " protester\n",
            " trump\n",
            " quarantinelife\n",
            " make\n",
            " realdonaldtrump\n",
            "\n",
            "\n",
            "Cluster 1:\n",
            " covid quarantine\n",
            " quarantine\n",
            " pandemic\n",
            " day\n",
            " coronavirus\n",
            " coronavirus covid\n",
            " corona\n",
            " people\n",
            " covid covid\n",
            " good\n",
            "\n",
            "\n",
            "Cluster 2:\n",
            " coronavirus\n",
            " covid coronavirus\n",
            " coronavirus covid\n",
            " quarantine\n",
            " covid covid\n",
            " pandemic\n",
            " florida\n",
            " corona\n",
            " protest\n",
            " virus\n",
            "\n",
            "\n",
            "Cluster 3:\n",
            " global pandemic\n",
            " global\n",
            " alert\n",
            " pandemic news\n",
            " global pandemic news\n",
            " pandemic\n",
            " news\n",
            " pandemic news coronavirus\n",
            " news coronavirus\n",
            " news coronavirus covid\n",
            "\n",
            "\n",
            "Cluster 4:\n",
            " quarantine\n",
            " quarantine covid\n",
            " case\n",
            " people\n",
            " home\n",
            " day\n",
            " social\n",
            " travel\n",
            " hotel\n",
            " spain\n",
            "\n",
            "\n",
            "Cluster 5:\n",
            " antibody\n",
            " covid antibody\n",
            " test\n",
            " antibody test\n",
            " study\n",
            " vaccine\n",
            " coronavirus\n",
            " patient\n",
            " people\n",
            " show\n",
            "\n",
            "\n",
            "Cluster 6:\n",
            " mask\n",
            " wear\n",
            " anti mask\n",
            " anti\n",
            " protest\n",
            " people\n",
            " protester\n",
            " quarantine\n",
            " social\n",
            " pandemic\n",
            "\n",
            "\n",
            "Cluster 7:\n",
            " anti\n",
            " anti masker\n",
            " masker\n",
            " vaccine\n",
            " lockdown\n",
            " trump\n",
            " right\n",
            " take\n",
            " protest\n",
            " corona\n",
            "\n",
            "\n",
            "Cluster 8:\n",
            " test\n",
            " antigen\n",
            " positive\n",
            " test positive\n",
            " quarantine\n",
            " covid test\n",
            " positive covid\n",
            " test positive covid\n",
            " odisha\n",
            " covid quarantine\n",
            "\n",
            "\n",
            "Cluster 9:\n",
            " protest\n",
            " protest covid\n",
            " police\n",
            " spread\n",
            " berlin\n",
            " thousand\n",
            " people\n",
            " restriction\n",
            " covid protest\n",
            " student\n",
            "\n",
            "\n"
          ],
          "name": "stdout"
        }
      ]
    },
    {
      "cell_type": "markdown",
      "metadata": {
        "id": "07ioncq1p0vh"
      },
      "source": [
        "## Plot Cluster Size"
      ]
    },
    {
      "cell_type": "code",
      "metadata": {
        "colab": {
          "base_uri": "https://localhost:8080/",
          "height": 592
        },
        "id": "IPtj4r0Sp0vi",
        "outputId": "134ae2a5-9213-4a4a-d0c0-8b9b7f4b3fab"
      },
      "source": [
        "sns.set(rc={'figure.figsize':(13,9)})\n",
        "plt.style.use('fivethirtyeight')\n",
        "ax = sns.countplot(x='cluster', data=tweet_masks)\n",
        "ax.set_xticklabels(ax.get_xticklabels(), rotation=45)\n",
        "plt.show()"
      ],
      "execution_count": null,
      "outputs": [
        {
          "output_type": "display_data",
          "data": {
            "image/png": "[encoded data removed]",
            "text/plain": [
              "<Figure size 936x648 with 1 Axes>"
            ]
          },
          "metadata": {
            "tags": []
          }
        }
      ]
    },
    {
      "cell_type": "markdown",
      "metadata": {
        "id": "cLT0g3Pyp0vi"
      },
      "source": [
        "##Sentiment Analysis"
      ]
    },
    {
      "cell_type": "code",
      "metadata": {
        "id": "B7_tb3eGp0vj"
      },
      "source": [
        "tweet_protest['emotion']=''"
      ],
      "execution_count": null,
      "outputs": []
    },
    {
      "cell_type": "code",
      "metadata": {
        "colab": {
          "base_uri": "https://localhost:8080/"
        },
        "id": "_OnyY21Vp0vj",
        "outputId": "a1fc95b9-9f5d-4d41-d768-51ba65404deb"
      },
      "source": [
        "for i in range(1,tweet_protest.shape[0]):\n",
        "  text = tweet_protest['lemmatized_string'][i]\n",
        "  text_object = NRCLex(text)\n",
        "  tweet_protest['emotion'][i] = text_object.top_emotions[0][0]\n",
        "  #tweets['emotion_score'][i] = text_object.top_emotions[0][1]\n",
        "  #print(\"\\n\")\n",
        "  #print(text_object.words)\n",
        "  #print(text_object.top_emotions)\n",
        "  #print(i)\n",
        "  #print(\"\\n\")"
      ],
      "execution_count": null,
      "outputs": [
        {
          "output_type": "stream",
          "text": [
            "/usr/local/lib/python3.6/dist-packages/ipykernel_launcher.py:4: SettingWithCopyWarning:\n",
            "\n",
            "\n",
            "A value is trying to be set on a copy of a slice from a DataFrame\n",
            "\n",
            "See the caveats in the documentation: https://pandas.pydata.org/pandas-docs/stable/user_guide/indexing.html#returning-a-view-versus-a-copy\n",
            "\n"
          ],
          "name": "stderr"
        }
      ]
    },
    {
      "cell_type": "code",
      "metadata": {
        "colab": {
          "base_uri": "https://localhost:8080/",
          "height": 612
        },
        "id": "L451DRpOp0vj",
        "outputId": "f637134b-e2ea-4097-f987-4382a4412a60"
      },
      "source": [
        "ax = sns.countplot(x= 'emotion', data=tweet_protest, order=['negative', 'positive', 'fear', 'surprise', 'sadness','trust','anticipation','anger', 'joy'])\\\n",
        ".set_title('Protests tweets emotions')\n",
        "plt.show()"
      ],
      "execution_count": null,
      "outputs": [
        {
          "output_type": "display_data",
          "data": {
            "image/png": "[encoded data removed]",
            "text/plain": [
              "<Figure size 936x648 with 1 Axes>"
            ]
          },
          "metadata": {
            "tags": []
          }
        }
      ]
    },
    {
      "cell_type": "markdown",
      "metadata": {
        "id": "U4bgAIwksXkg"
      },
      "source": [
        "# Hoax Dataframe"
      ]
    },
    {
      "cell_type": "code",
      "metadata": {
        "colab": {
          "base_uri": "https://localhost:8080/",
          "height": 520
        },
        "id": "8BvAc_CEseTq",
        "outputId": "21d30a4a-66de-478c-d6af-9a59295c0dfd"
      },
      "source": [
        "tweet_hoax.head()"
      ],
      "execution_count": null,
      "outputs": [
        {
          "output_type": "execute_result",
          "data": {
            "text/html": [
              "<div>\n",
              "<style scoped>\n",
              "    .dataframe tbody tr th:only-of-type {\n",
              "        vertical-align: middle;\n",
              "    }\n",
              "\n",
              "    .dataframe tbody tr th {\n",
              "        vertical-align: top;\n",
              "    }\n",
              "\n",
              "    .dataframe thead th {\n",
              "        text-align: right;\n",
              "    }\n",
              "</style>\n",
              "<table border=\"1\" class=\"dataframe\">\n",
              "  <thead>\n",
              "    <tr style=\"text-align: right;\">\n",
              "      <th></th>\n",
              "      <th>index</th>\n",
              "      <th>user_name</th>\n",
              "      <th>user_location</th>\n",
              "      <th>user_description</th>\n",
              "      <th>user_created</th>\n",
              "      <th>user_followers</th>\n",
              "      <th>user_friends</th>\n",
              "      <th>user_favourites</th>\n",
              "      <th>user_verified</th>\n",
              "      <th>date</th>\n",
              "      <th>text</th>\n",
              "      <th>hashtags</th>\n",
              "      <th>source</th>\n",
              "      <th>is_retweet</th>\n",
              "      <th>clean_text</th>\n",
              "      <th>text_tokenized</th>\n",
              "      <th>text_lemmatized</th>\n",
              "      <th>text_stemmed</th>\n",
              "      <th>stemmed_string</th>\n",
              "      <th>lemmatized_string</th>\n",
              "      <th>day</th>\n",
              "    </tr>\n",
              "  </thead>\n",
              "  <tbody>\n",
              "    <tr>\n",
              "      <th>0</th>\n",
              "      <td>166692</td>\n",
              "      <td>𝓔𝓶𝓖</td>\n",
              "      <td>AirForce1</td>\n",
              "      <td>#WalkingSociety Founder. #CashAppInBio $Emilio...</td>\n",
              "      <td>2010-05-30 00:59:30</td>\n",
              "      <td>1779</td>\n",
              "      <td>4055</td>\n",
              "      <td>71696</td>\n",
              "      <td>False</td>\n",
              "      <td>2020-08-30 09:06:00</td>\n",
              "      <td>I’ve been pushing this for a few weeks now  @C...</td>\n",
              "      <td>NaN</td>\n",
              "      <td>Twitter for iPhone</td>\n",
              "      <td>False</td>\n",
              "      <td>been pushing this weeks cdcgov this their webs...</td>\n",
              "      <td>[pushing, weeks, cdcgov, website, count, influ...</td>\n",
              "      <td>[push, week, cdcgov, website, count, influenza...</td>\n",
              "      <td>[push, week, cdcgov, websit, count, influenza,...</td>\n",
              "      <td>push week cdcgov websit count influenza pneumo...</td>\n",
              "      <td>push week cdcgov website count influenza pneum...</td>\n",
              "      <td>2020-08-30</td>\n",
              "    </tr>\n",
              "    <tr>\n",
              "      <th>1</th>\n",
              "      <td>166753</td>\n",
              "      <td>Crushed</td>\n",
              "      <td>Glasgow</td>\n",
              "      <td>Formerly of the 3rd Light Mounted Cash Registe...</td>\n",
              "      <td>2011-05-26 17:58:23</td>\n",
              "      <td>255</td>\n",
              "      <td>729</td>\n",
              "      <td>3262</td>\n",
              "      <td>False</td>\n",
              "      <td>2020-08-30 09:02:33</td>\n",
              "      <td>Turns out, government has been pissing away £5...</td>\n",
              "      <td>['Covid19']</td>\n",
              "      <td>Twitter for Android</td>\n",
              "      <td>False</td>\n",
              "      <td>turns government been pissing away shot paying...</td>\n",
              "      <td>[turns, government, pissing, away, shot, payin...</td>\n",
              "      <td>[turn, government, piss, away, shot, pay, soci...</td>\n",
              "      <td>[turn, govern, piss, away, shot, pay, social, ...</td>\n",
              "      <td>turn govern piss away shot pay social media in...</td>\n",
              "      <td>turn government piss away shot pay social medi...</td>\n",
              "      <td>2020-08-30</td>\n",
              "    </tr>\n",
              "    <tr>\n",
              "      <th>2</th>\n",
              "      <td>166805</td>\n",
              "      <td>IJMHN</td>\n",
              "      <td>NaN</td>\n",
              "      <td>International Journal of Mental Health Nursing</td>\n",
              "      <td>2012-06-04 11:56:08</td>\n",
              "      <td>2249</td>\n",
              "      <td>464</td>\n",
              "      <td>920</td>\n",
              "      <td>False</td>\n",
              "      <td>2020-08-30 09:00:44</td>\n",
              "      <td>This 👉 https://t.co/HFagAVLrGd 👈 rapid review ...</td>\n",
              "      <td>['COVID19']</td>\n",
              "      <td>Hootsuite Inc.</td>\n",
              "      <td>False</td>\n",
              "      <td>this   hfagavlrgd rapid review three pandemics...</td>\n",
              "      <td>[hfagavlrgd, rapid, review, three, pandemics, ...</td>\n",
              "      <td>[hfagavlrgd, rapid, review, three, pandemic, c...</td>\n",
              "      <td>[hfagavlrgd, rapid, review, three, pandem, cov...</td>\n",
              "      <td>hfagavlrgd rapid review three pandem covid mer...</td>\n",
              "      <td>hfagavlrgd rapid review three pandemic covid m...</td>\n",
              "      <td>2020-08-30</td>\n",
              "    </tr>\n",
              "    <tr>\n",
              "      <th>3</th>\n",
              "      <td>167069</td>\n",
              "      <td>Nilesh Hendre 🇮🇳</td>\n",
              "      <td>Mumbai, India</td>\n",
              "      <td>🇮🇳 CHEMICAL ENGINEER</td>\n",
              "      <td>2018-11-09 17:43:43</td>\n",
              "      <td>3269</td>\n",
              "      <td>2291</td>\n",
              "      <td>29018</td>\n",
              "      <td>False</td>\n",
              "      <td>2020-08-30 08:46:43</td>\n",
              "      <td>Some stupid and idiots are spreading the fake ...</td>\n",
              "      <td>NaN</td>\n",
              "      <td>Twitter for Android</td>\n",
              "      <td>False</td>\n",
              "      <td>some stupid idiots spreading fake news that ns...</td>\n",
              "      <td>[stupid, idiots, spreading, fake, news, nsitha...</td>\n",
              "      <td>[stupid, idiot, spread, fake, news, nsitharama...</td>\n",
              "      <td>[stupid, idiot, spread, fake, news, nsitharama...</td>\n",
              "      <td>stupid idiot spread fake news nsitharaman said...</td>\n",
              "      <td>stupid idiot spread fake news nsitharaman say ...</td>\n",
              "      <td>2020-08-30</td>\n",
              "    </tr>\n",
              "    <tr>\n",
              "      <th>4</th>\n",
              "      <td>167086</td>\n",
              "      <td>Presi Dente</td>\n",
              "      <td>Brisbane, Queensland</td>\n",
              "      <td>The President. Satire, Reality, Bluntness, Mor...</td>\n",
              "      <td>2020-02-12 21:06:54</td>\n",
              "      <td>7</td>\n",
              "      <td>118</td>\n",
              "      <td>1091</td>\n",
              "      <td>False</td>\n",
              "      <td>2020-08-30 08:45:55</td>\n",
              "      <td>The END is near. 🛑 #COVID19 #riots  #antimasqu...</td>\n",
              "      <td>['COVID19', 'riots', 'antimasques', 'antimask'...</td>\n",
              "      <td>Twitter for iPhone</td>\n",
              "      <td>False</td>\n",
              "      <td>near covid riots antimasques antimask blmburnl...</td>\n",
              "      <td>[near, covid, riots, antimasques, antimask, bl...</td>\n",
              "      <td>[near, covid, riot, antimasques, antimask, blm...</td>\n",
              "      <td>[near, covid, riot, antimasqu, antimask, blmbu...</td>\n",
              "      <td>near covid riot antimasqu antimask blmburnloot...</td>\n",
              "      <td>near covid riot antimasques antimask blmburnlo...</td>\n",
              "      <td>2020-08-30</td>\n",
              "    </tr>\n",
              "  </tbody>\n",
              "</table>\n",
              "</div>"
            ],
            "text/plain": [
              "    index         user_name         user_location                                   user_description         user_created  user_followers  user_friends  user_favourites  user_verified                date                                               text                                           hashtags               source  is_retweet                                         clean_text                                     text_tokenized                                    text_lemmatized                                       text_stemmed                                     stemmed_string                                  lemmatized_string        day\n",
              "0  166692               𝓔𝓶𝓖             AirForce1  #WalkingSociety Founder. #CashAppInBio $Emilio...  2010-05-30 00:59:30            1779          4055            71696          False 2020-08-30 09:06:00  I’ve been pushing this for a few weeks now  @C...                                                NaN   Twitter for iPhone       False  been pushing this weeks cdcgov this their webs...  [pushing, weeks, cdcgov, website, count, influ...  [push, week, cdcgov, website, count, influenza...  [push, week, cdcgov, websit, count, influenza,...  push week cdcgov websit count influenza pneumo...  push week cdcgov website count influenza pneum... 2020-08-30\n",
              "1  166753           Crushed               Glasgow  Formerly of the 3rd Light Mounted Cash Registe...  2011-05-26 17:58:23             255           729             3262          False 2020-08-30 09:02:33  Turns out, government has been pissing away £5...                                        ['Covid19']  Twitter for Android       False  turns government been pissing away shot paying...  [turns, government, pissing, away, shot, payin...  [turn, government, piss, away, shot, pay, soci...  [turn, govern, piss, away, shot, pay, social, ...  turn govern piss away shot pay social media in...  turn government piss away shot pay social medi... 2020-08-30\n",
              "2  166805             IJMHN                   NaN     International Journal of Mental Health Nursing  2012-06-04 11:56:08            2249           464              920          False 2020-08-30 09:00:44  This 👉 https://t.co/HFagAVLrGd 👈 rapid review ...                                        ['COVID19']       Hootsuite Inc.       False  this   hfagavlrgd rapid review three pandemics...  [hfagavlrgd, rapid, review, three, pandemics, ...  [hfagavlrgd, rapid, review, three, pandemic, c...  [hfagavlrgd, rapid, review, three, pandem, cov...  hfagavlrgd rapid review three pandem covid mer...  hfagavlrgd rapid review three pandemic covid m... 2020-08-30\n",
              "3  167069  Nilesh Hendre 🇮🇳         Mumbai, India                               🇮🇳 CHEMICAL ENGINEER  2018-11-09 17:43:43            3269          2291            29018          False 2020-08-30 08:46:43  Some stupid and idiots are spreading the fake ...                                                NaN  Twitter for Android       False  some stupid idiots spreading fake news that ns...  [stupid, idiots, spreading, fake, news, nsitha...  [stupid, idiot, spread, fake, news, nsitharama...  [stupid, idiot, spread, fake, news, nsitharama...  stupid idiot spread fake news nsitharaman said...  stupid idiot spread fake news nsitharaman say ... 2020-08-30\n",
              "4  167086       Presi Dente  Brisbane, Queensland  The President. Satire, Reality, Bluntness, Mor...  2020-02-12 21:06:54               7           118             1091          False 2020-08-30 08:45:55  The END is near. 🛑 #COVID19 #riots  #antimasqu...  ['COVID19', 'riots', 'antimasques', 'antimask'...   Twitter for iPhone       False  near covid riots antimasques antimask blmburnl...  [near, covid, riots, antimasques, antimask, bl...  [near, covid, riot, antimasques, antimask, blm...  [near, covid, riot, antimasqu, antimask, blmbu...  near covid riot antimasqu antimask blmburnloot...  near covid riot antimasques antimask blmburnlo... 2020-08-30"
            ]
          },
          "metadata": {
            "tags": []
          },
          "execution_count": 136
        }
      ]
    },
    {
      "cell_type": "markdown",
      "metadata": {
        "id": "NhEoRzD_sihY"
      },
      "source": [
        "##TFIDF Vectorizer"
      ]
    },
    {
      "cell_type": "code",
      "metadata": {
        "id": "Tut3SnuBsihZ"
      },
      "source": [
        "vectorizer = TfidfVectorizer(stop_words=stopwords_eng, \n",
        "max_features= 250, # keep top 1000 terms\n",
        "max_df=0.3, \n",
        "min_df = 50, \n",
        "smooth_idf=True,\n",
        "use_idf = True,\n",
        "ngram_range=(1,3))\n",
        "\n",
        "#vectorizer = TfidfVectorizer(use_idf = True, ngram_range=(1,2))\n",
        "\n",
        " \n",
        "X = vectorizer.fit_transform(tweet_hoax['lemmatized_string'])\n",
        "terms = vectorizer.get_feature_names()"
      ],
      "execution_count": null,
      "outputs": []
    },
    {
      "cell_type": "markdown",
      "metadata": {
        "id": "5oCRISjzsiha"
      },
      "source": [
        "## Kmeans Clustering"
      ]
    },
    {
      "cell_type": "code",
      "metadata": {
        "id": "0nzVZoIjsiha"
      },
      "source": [
        "num_clusters = 10\n",
        "\n",
        "km = KMeans(n_clusters=num_clusters,init='k-means++', max_iter=100, n_init=10, random_state=1)\n",
        "\n",
        "labels = km.fit_predict(X)"
      ],
      "execution_count": null,
      "outputs": []
    },
    {
      "cell_type": "code",
      "metadata": {
        "id": "BBmaP35Ysihb"
      },
      "source": [
        "tweet_hoax['cluster'] = labels"
      ],
      "execution_count": null,
      "outputs": []
    },
    {
      "cell_type": "code",
      "metadata": {
        "colab": {
          "base_uri": "https://localhost:8080/"
        },
        "id": "o8Q0b7PSsihb",
        "outputId": "47ebb873-290a-42df-cf54-3be8b387ebe0"
      },
      "source": [
        "#most important n-gramms (words) in each cluster\n",
        "\n",
        "print(\"K-means clustering: \\n\")\n",
        "asc_order_centroids = km.cluster_centers_.argsort()#[:, ::-1]\n",
        "order_centroids = asc_order_centroids[:,::-1]\n",
        "terms = vectorizer.get_feature_names()\n",
        "for i in range(num_clusters):\n",
        "    print (\"Cluster %d:\" % i)\n",
        "    for ind in order_centroids[i, :10]:\n",
        "        print (' %s' % terms[ind])\n",
        "    print('\\n')\n"
      ],
      "execution_count": null,
      "outputs": [
        {
          "output_type": "stream",
          "text": [
            "K-means clustering: \n",
            "\n",
            "Cluster 0:\n",
            " chinavirus\n",
            " coronavirus\n",
            " china\n",
            " covid coronavirus\n",
            " virus\n",
            " people\n",
            " say\n",
            " pandemic\n",
            " mask\n",
            " make\n",
            "\n",
            "\n",
            "Cluster 1:\n",
            " hoax\n",
            " call\n",
            " trump\n",
            " virus\n",
            " people\n",
            " realdonaldtrump\n",
            " coronavirus\n",
            " say\n",
            " pandemic\n",
            " like\n",
            "\n",
            "\n",
            "Cluster 2:\n",
            " fake\n",
            " people\n",
            " realdonaldtrump\n",
            " trump\n",
            " death\n",
            " pandemic\n",
            " coronavirus\n",
            " like\n",
            " mask\n",
            " say\n",
            "\n",
            "\n",
            "Cluster 3:\n",
            " influence\n",
            " pandemic\n",
            " trump\n",
            " need\n",
            " coronavirus\n",
            " people\n",
            " news\n",
            " make\n",
            " china\n",
            " covid coronavirus\n",
            "\n",
            "\n",
            "Cluster 4:\n",
            " covidhoax\n",
            " coronavirus\n",
            " news\n",
            " fake news\n",
            " covid covid\n",
            " virus\n",
            " mask\n",
            " fake\n",
            " realdonaldtrump\n",
            " pandemic\n",
            "\n",
            "\n",
            "Cluster 5:\n",
            " influencerchallange\n",
            " like\n",
            " people\n",
            " say\n",
            " need\n",
            " know\n",
            " make\n",
            " china\n",
            " death\n",
            " covid coronavirus\n",
            "\n",
            "\n",
            "Cluster 6:\n",
            " plandemic\n",
            " coronavirus\n",
            " news\n",
            " trump\n",
            " covid coronavirus\n",
            " covid covid\n",
            " coronavirus covid\n",
            " people\n",
            " pandemic\n",
            " virus\n",
            "\n",
            "\n",
            "Cluster 7:\n",
            " influenza\n",
            " death\n",
            " pandemic\n",
            " mask\n",
            " people\n",
            " news\n",
            " coronavirus\n",
            " need\n",
            " make\n",
            " say\n",
            "\n",
            "\n",
            "Cluster 8:\n",
            " fakenews\n",
            " news\n",
            " coronavirus\n",
            " believe\n",
            " trump\n",
            " say\n",
            " people\n",
            " realdonaldtrump\n",
            " death\n",
            " make\n",
            "\n",
            "\n",
            "Cluster 9:\n",
            " covid hoax\n",
            " hoax\n",
            " trump\n",
            " realdonaldtrump\n",
            " call\n",
            " mask\n",
            " believe\n",
            " say\n",
            " people\n",
            " coronavirus\n",
            "\n",
            "\n"
          ],
          "name": "stdout"
        }
      ]
    },
    {
      "cell_type": "markdown",
      "metadata": {
        "id": "i5bKCGrksihc"
      },
      "source": [
        "## Plot Cluster Size"
      ]
    },
    {
      "cell_type": "code",
      "metadata": {
        "colab": {
          "base_uri": "https://localhost:8080/",
          "height": 592
        },
        "id": "-NNPbeBrsihc",
        "outputId": "815aeb34-80c4-4266-c805-d05a944942dc"
      },
      "source": [
        "sns.set(rc={'figure.figsize':(13,9)})\n",
        "plt.style.use('fivethirtyeight')\n",
        "ax = sns.countplot(x='cluster', data=tweet_masks)\n",
        "ax.set_xticklabels(ax.get_xticklabels(), rotation=45)\n",
        "plt.show()"
      ],
      "execution_count": null,
      "outputs": [
        {
          "output_type": "display_data",
          "data": {
            "image/png": "[encoded data removed]",
            "text/plain": [
              "<Figure size 936x648 with 1 Axes>"
            ]
          },
          "metadata": {
            "tags": []
          }
        }
      ]
    },
    {
      "cell_type": "markdown",
      "metadata": {
        "id": "irBbiMUmsihd"
      },
      "source": [
        "##Sentiment Analysis"
      ]
    },
    {
      "cell_type": "code",
      "metadata": {
        "id": "osupLd4Ssihd"
      },
      "source": [
        "tweet_hoax['emotion']=''"
      ],
      "execution_count": null,
      "outputs": []
    },
    {
      "cell_type": "code",
      "metadata": {
        "colab": {
          "base_uri": "https://localhost:8080/"
        },
        "id": "jreLE5Visihe",
        "outputId": "4317b9fb-fb5e-4a99-fb1c-6cbbb63def0f"
      },
      "source": [
        "for i in range(1,tweet_hoax.shape[0]):\n",
        "  text = tweet_hoax['lemmatized_string'][i]\n",
        "  text_object = NRCLex(text)\n",
        "  tweet_hoax['emotion'][i] = text_object.top_emotions[0][0]\n",
        "  #tweets['emotion_score'][i] = text_object.top_emotions[0][1]\n",
        "  #print(\"\\n\")\n",
        "  #print(text_object.words)\n",
        "  #print(text_object.top_emotions)\n",
        "  #print(i)\n",
        "  #print(\"\\n\")"
      ],
      "execution_count": null,
      "outputs": [
        {
          "output_type": "stream",
          "text": [
            "/usr/local/lib/python3.6/dist-packages/ipykernel_launcher.py:4: SettingWithCopyWarning:\n",
            "\n",
            "\n",
            "A value is trying to be set on a copy of a slice from a DataFrame\n",
            "\n",
            "See the caveats in the documentation: https://pandas.pydata.org/pandas-docs/stable/user_guide/indexing.html#returning-a-view-versus-a-copy\n",
            "\n"
          ],
          "name": "stderr"
        }
      ]
    },
    {
      "cell_type": "code",
      "metadata": {
        "colab": {
          "base_uri": "https://localhost:8080/",
          "height": 612
        },
        "id": "9NF6x9YRsihf",
        "outputId": "72683fb6-cf7f-43b2-9281-1a95f0406821"
      },
      "source": [
        "ax = sns.countplot(x= 'emotion', data=tweet_protest, order=['negative', 'positive', 'fear', 'surprise', 'sadness','trust','anticipation','anger', 'joy'])\\\n",
        ".set_title('Hoaxes tweets emotions')\n",
        "plt.show()"
      ],
      "execution_count": null,
      "outputs": [
        {
          "output_type": "display_data",
          "data": {
            "image/png": "[encoded data removed]",
            "text/plain": [
              "<Figure size 936x648 with 1 Axes>"
            ]
          },
          "metadata": {
            "tags": []
          }
        }
      ]
    }
  ]
}